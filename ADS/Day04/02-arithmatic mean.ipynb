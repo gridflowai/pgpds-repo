{
 "cells": [
  {
   "cell_type": "markdown",
   "id": "ec1294ae-43b4-4a68-83ce-71698288cee2",
   "metadata": {},
   "source": [
    "------------------------\n",
    "#### Mean\n",
    "--------------------"
   ]
  },
  {
   "cell_type": "markdown",
   "id": "44b13d5e-b9a6-4a7b-b519-cf4fe9393b86",
   "metadata": {},
   "source": [
    "**Discrete Data (Test Scores)**\n",
    "\n",
    "consider a dataset of test scores (whole numbers) for a group of students:"
   ]
  },
  {
   "cell_type": "code",
   "execution_count": 2,
   "id": "b827e67c-19c7-4785-94af-064212e92fa0",
   "metadata": {
    "tags": []
   },
   "outputs": [
    {
     "name": "stdout",
     "output_type": "stream",
     "text": [
      "Mean: 87.8\n"
     ]
    }
   ],
   "source": [
    "# Define a list of numbers\n",
    "numbers = [85, 92, 78, 89, 95]\n",
    "\n",
    "# Calculate the mean\n",
    "mean = sum(numbers) / len(numbers)\n",
    "\n",
    "# Print the result\n",
    "print(\"Mean:\", mean)"
   ]
  },
  {
   "cell_type": "markdown",
   "id": "66629380-a293-43e4-8823-82f435ba5bd0",
   "metadata": {},
   "source": [
    "**continuous data**"
   ]
  },
  {
   "cell_type": "code",
   "execution_count": 3,
   "id": "e3eaf2d5-7ccc-4355-af31-7086a81d48cf",
   "metadata": {
    "tags": []
   },
   "outputs": [
    {
     "name": "stdout",
     "output_type": "stream",
     "text": [
      "Mean: 170.6\n"
     ]
    }
   ],
   "source": [
    "# Define a list of continuous float values\n",
    "data = [165.5, 178.2, 162.8, 175.1, 171.4]\n",
    "\n",
    "# Calculate the mean\n",
    "mean = sum(data) / len(data)\n",
    "\n",
    "# Print the result\n",
    "print(\"Mean:\", mean)\n"
   ]
  },
  {
   "cell_type": "code",
   "execution_count": null,
   "id": "7f8cb3b8-9810-4e19-8162-5cba720cc9b7",
   "metadata": {},
   "outputs": [],
   "source": []
  }
 ],
 "metadata": {
  "kernelspec": {
   "display_name": "Python 3 (ipykernel)",
   "language": "python",
   "name": "python3"
  },
  "language_info": {
   "codemirror_mode": {
    "name": "ipython",
    "version": 3
   },
   "file_extension": ".py",
   "mimetype": "text/x-python",
   "name": "python",
   "nbconvert_exporter": "python",
   "pygments_lexer": "ipython3",
   "version": "3.11.4"
  }
 },
 "nbformat": 4,
 "nbformat_minor": 5
}
