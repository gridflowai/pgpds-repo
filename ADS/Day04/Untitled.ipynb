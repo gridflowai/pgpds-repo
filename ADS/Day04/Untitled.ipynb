{
 "cells": [
  {
   "cell_type": "code",
   "execution_count": 11,
   "id": "6eeab4c0-4f5d-4f94-80cd-f2aede14118e",
   "metadata": {},
   "outputs": [],
   "source": [
    "precision = 0.9  # metric\n",
    "recall    = 0.35  # metric\n",
    "\n",
    "# metrics have to naturally related"
   ]
  },
  {
   "cell_type": "code",
   "execution_count": 12,
   "id": "64c670dc-4a8e-4483-9e11-6de13aaa24cd",
   "metadata": {},
   "outputs": [],
   "source": [
    "hm = 2 *(precision * recall) /(precision + recall)"
   ]
  },
  {
   "cell_type": "code",
   "execution_count": 13,
   "id": "41142db8-bde7-4df1-99a3-bcd61a5953ee",
   "metadata": {},
   "outputs": [
    {
     "data": {
      "text/plain": [
       "0.504"
      ]
     },
     "execution_count": 13,
     "metadata": {},
     "output_type": "execute_result"
    }
   ],
   "source": [
    "hm  # balanced average"
   ]
  },
  {
   "cell_type": "code",
   "execution_count": null,
   "id": "93669051-a7d4-4827-8ccb-9912d5a54e5f",
   "metadata": {},
   "outputs": [],
   "source": []
  }
 ],
 "metadata": {
  "kernelspec": {
   "display_name": "Python 3 (ipykernel)",
   "language": "python",
   "name": "python3"
  },
  "language_info": {
   "codemirror_mode": {
    "name": "ipython",
    "version": 3
   },
   "file_extension": ".py",
   "mimetype": "text/x-python",
   "name": "python",
   "nbconvert_exporter": "python",
   "pygments_lexer": "ipython3",
   "version": "3.9.13"
  }
 },
 "nbformat": 4,
 "nbformat_minor": 5
}
