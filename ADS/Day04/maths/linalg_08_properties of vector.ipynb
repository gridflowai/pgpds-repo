{
 "cells": [
  {
   "cell_type": "markdown",
   "id": "cc40d8ad-c47a-4f0d-a0b1-16aa1a2651db",
   "metadata": {},
   "source": [
    "---------------------\n",
    "#### properties of vectors\n",
    "------------------------"
   ]
  },
  {
   "cell_type": "markdown",
   "id": "c9459fef-9ba5-4c06-a725-df01435f2b48",
   "metadata": {},
   "source": [
    "##### Commutative Property:\n",
    "\n",
    "The commutative property states that the order of operands does not affect the result of an operation. \n",
    "\n",
    "For vector addition, this means that changing the order in which vectors are added does not change the sum.\n",
    "\n",
    "v+w=w+v"
   ]
  },
  {
   "cell_type": "code",
   "execution_count": 2,
   "id": "42b419b5-cece-4d95-a8da-1b5b0d5654cf",
   "metadata": {
    "tags": []
   },
   "outputs": [
    {
     "name": "stdout",
     "output_type": "stream",
     "text": [
      "Result using v + w: [4 6]\n",
      "Result using w + v: [4 6]\n"
     ]
    }
   ],
   "source": [
    "import numpy as np\n",
    "\n",
    "vector_v = np.array([3, 4])\n",
    "vector_w = np.array([1, 2])\n",
    "\n",
    "result1 = vector_v + vector_w\n",
    "result2 = vector_w + vector_v\n",
    "\n",
    "print(\"Result using v + w:\", result1)\n",
    "print(\"Result using w + v:\", result2)"
   ]
  },
  {
   "cell_type": "markdown",
   "id": "8da655f4-edb3-464d-98b8-6114110c992b",
   "metadata": {},
   "source": [
    "##### Additive Identity Property:\n",
    "The additive identity property states that adding a zero vector to any vector does not change the vector.\n",
    "\n",
    "v+0=v"
   ]
  },
  {
   "cell_type": "code",
   "execution_count": 3,
   "id": "5fd810cd-08c3-4b8f-a6c0-46f4df8813a4",
   "metadata": {
    "tags": []
   },
   "outputs": [
    {
     "name": "stdout",
     "output_type": "stream",
     "text": [
      "Result using v + 0: [3 4]\n"
     ]
    }
   ],
   "source": [
    "vector_v    = np.array([3, 4])\n",
    "zero_vector = np.array([0, 0])\n",
    "\n",
    "result = vector_v + zero_vector\n",
    "\n",
    "print(\"Result using v + 0:\", result)"
   ]
  },
  {
   "cell_type": "markdown",
   "id": "644c0d5b-c025-442a-98a8-c7517475eb00",
   "metadata": {},
   "source": [
    "##### Associative Property:\n",
    "The associative property states that the `grouping of vectors` in an operation does not affect the result. \n",
    "\n",
    "For vector addition, this means that the sum of three vectors is the same regardless of how you group them.\n",
    "\n",
    "\n",
    "(u+v)+w=u+(v+w)"
   ]
  },
  {
   "cell_type": "code",
   "execution_count": 4,
   "id": "d2ea4b83-69d5-43f3-a990-beafc5d5a24e",
   "metadata": {
    "tags": []
   },
   "outputs": [
    {
     "name": "stdout",
     "output_type": "stream",
     "text": [
      "Result using (u + v) + w: [ 9 12]\n",
      "Result using u + (v + w): [ 9 12]\n"
     ]
    }
   ],
   "source": [
    "vector_u = np.array([1, 2])\n",
    "vector_v = np.array([3, 4])\n",
    "vector_w = np.array([5, 6])\n",
    "\n",
    "result1 = (vector_u + vector_v) + vector_w\n",
    "result2 = vector_u + (vector_v + vector_w)\n",
    "\n",
    "print(\"Result using (u + v) + w:\", result1)\n",
    "print(\"Result using u + (v + w):\", result2)"
   ]
  },
  {
   "cell_type": "markdown",
   "id": "be00fd41-5af1-4f3e-9004-9ca14beaaaaf",
   "metadata": {},
   "source": [
    "#### python code taking examples from DS/ML"
   ]
  },
  {
   "cell_type": "markdown",
   "id": "9773766e-495c-4dbb-8b70-5793f9df84ee",
   "metadata": {},
   "source": [
    "##### Commutative Property: Euclidean Distance Calculation"
   ]
  },
  {
   "cell_type": "code",
   "execution_count": 5,
   "id": "dc495ff1-fe2d-4add-a84a-1128b5c22f93",
   "metadata": {
    "tags": []
   },
   "outputs": [],
   "source": [
    "import numpy as np\n",
    "from scipy.spatial.distance import euclidean"
   ]
  },
  {
   "cell_type": "code",
   "execution_count": 6,
   "id": "49cea5c4-ad77-48eb-9424-cd899ac993e8",
   "metadata": {
    "tags": []
   },
   "outputs": [],
   "source": [
    "# Example data points\n",
    "data_point1 = np.array([3, 4, 5])\n",
    "data_point2 = np.array([1, 2, 3])"
   ]
  },
  {
   "cell_type": "code",
   "execution_count": 7,
   "id": "8452ef6f-d7ed-4299-a359-bbdf79f213a8",
   "metadata": {
    "tags": []
   },
   "outputs": [],
   "source": [
    "distance1 = euclidean(data_point1, data_point2)\n",
    "distance2 = euclidean(data_point2, data_point1)"
   ]
  },
  {
   "cell_type": "code",
   "execution_count": 8,
   "id": "4de976de-d304-471e-ba47-f7cf863208c2",
   "metadata": {
    "tags": []
   },
   "outputs": [
    {
     "name": "stdout",
     "output_type": "stream",
     "text": [
      "Distance between data_point1 and data_point2: 3.4641016151377544\n",
      "Distance between data_point2 and data_point1: 3.4641016151377544\n"
     ]
    }
   ],
   "source": [
    "print(\"Distance between data_point1 and data_point2:\", distance1)\n",
    "print(\"Distance between data_point2 and data_point1:\", distance2)"
   ]
  },
  {
   "cell_type": "markdown",
   "id": "2ea8fa5c-44de-4835-aff0-0c30a66b91e3",
   "metadata": {},
   "source": [
    "##### Associative Property: PCA Dimension Reduction"
   ]
  },
  {
   "cell_type": "code",
   "execution_count": 9,
   "id": "a0778e25-f4cd-49f7-bc3a-8284607801a1",
   "metadata": {
    "tags": []
   },
   "outputs": [],
   "source": [
    "from sklearn.decomposition import PCA"
   ]
  },
  {
   "cell_type": "code",
   "execution_count": 10,
   "id": "0c8026e4-15ce-469f-a914-4e73de73c685",
   "metadata": {
    "tags": []
   },
   "outputs": [],
   "source": [
    "# Example dataset (samples in rows, features in columns)\n",
    "data = np.array([[1, 2, 3],\n",
    "                 [4, 5, 6],\n",
    "                 [7, 8, 9]])"
   ]
  },
  {
   "cell_type": "code",
   "execution_count": 11,
   "id": "b90c7ec3-a6d3-4ae5-962d-d7e53725e39e",
   "metadata": {
    "tags": []
   },
   "outputs": [],
   "source": [
    "# Applying PCA: (u + v) + w vs. u + (v + w)\n",
    "pca1 = PCA(n_components=2)\n",
    "result1 = pca1.fit_transform(data)"
   ]
  },
  {
   "cell_type": "code",
   "execution_count": 12,
   "id": "935386ad-4425-4db5-b7c5-e9c19c20586d",
   "metadata": {
    "tags": []
   },
   "outputs": [],
   "source": [
    "pca2 = PCA(n_components=2)\n",
    "result2 = pca2.fit_transform(pca1.transform(data))"
   ]
  },
  {
   "cell_type": "code",
   "execution_count": 13,
   "id": "9b12ac12-5328-4c51-9149-38e39938f658",
   "metadata": {
    "tags": []
   },
   "outputs": [
    {
     "name": "stdout",
     "output_type": "stream",
     "text": [
      "Result using (u + v) + w:\n",
      " [[-5.19615242e+00  3.62353582e-16]\n",
      " [ 0.00000000e+00  0.00000000e+00]\n",
      " [ 5.19615242e+00  3.62353582e-16]]\n",
      "Result using u + (v + w):\n",
      " [[-5.19615242e+00  1.60219646e-31]\n",
      " [ 0.00000000e+00  0.00000000e+00]\n",
      " [ 5.19615242e+00  1.60219646e-31]]\n"
     ]
    }
   ],
   "source": [
    "print(\"Result using (u + v) + w:\\n\", result1)\n",
    "print(\"Result using u + (v + w):\\n\", result2)"
   ]
  },
  {
   "cell_type": "markdown",
   "id": "1b15a68d-ae81-4edc-9a22-026704cf5cff",
   "metadata": {},
   "source": [
    "##### Associative Property: Feature Engineering"
   ]
  },
  {
   "cell_type": "code",
   "execution_count": 14,
   "id": "f190ef71-f5c4-4c2e-bae3-8d9004400e3a",
   "metadata": {
    "tags": []
   },
   "outputs": [],
   "source": [
    "from sklearn.preprocessing import MinMaxScaler"
   ]
  },
  {
   "cell_type": "code",
   "execution_count": 15,
   "id": "b662c012-fe59-4a7a-b246-7a8140a64023",
   "metadata": {
    "tags": []
   },
   "outputs": [],
   "source": [
    "# Example dataset (samples in rows, features in columns)\n",
    "data = np.array([[1, 2, 3],\n",
    "                 [4, 5, 6],\n",
    "                 [7, 8, 9]])"
   ]
  },
  {
   "cell_type": "code",
   "execution_count": 16,
   "id": "4ecbea97-f464-4b5b-8b2f-9742e0006ccd",
   "metadata": {
    "tags": []
   },
   "outputs": [],
   "source": [
    "# Applying feature scaling: (u + v) + w vs. u + (v + w)\n",
    "scaler1 = MinMaxScaler()\n",
    "result1 = scaler1.fit_transform(data)"
   ]
  },
  {
   "cell_type": "code",
   "execution_count": 19,
   "id": "6e7e33c6-4f03-4d1a-b57a-7582b6eff7f4",
   "metadata": {
    "tags": []
   },
   "outputs": [
    {
     "data": {
      "text/plain": [
       "array([[0. , 0. , 0. ],\n",
       "       [0.5, 0.5, 0.5],\n",
       "       [1. , 1. , 1. ]])"
      ]
     },
     "execution_count": 19,
     "metadata": {},
     "output_type": "execute_result"
    }
   ],
   "source": [
    "result1"
   ]
  },
  {
   "cell_type": "code",
   "execution_count": 17,
   "id": "ff0af974-d8a2-46e6-8222-e4c6464ea1e0",
   "metadata": {
    "tags": []
   },
   "outputs": [],
   "source": [
    "scaler2 = MinMaxScaler()\n",
    "result2 = scaler2.fit_transform(scaler1.transform(data))"
   ]
  },
  {
   "cell_type": "code",
   "execution_count": 18,
   "id": "4ef3db95-22b4-4c67-b2ee-89894077827e",
   "metadata": {
    "tags": []
   },
   "outputs": [
    {
     "name": "stdout",
     "output_type": "stream",
     "text": [
      "Result using (u + v) + w:\n",
      " [[0.  0.  0. ]\n",
      " [0.5 0.5 0.5]\n",
      " [1.  1.  1. ]]\n",
      "Result using u + (v + w):\n",
      " [[0.  0.  0. ]\n",
      " [0.5 0.5 0.5]\n",
      " [1.  1.  1. ]]\n"
     ]
    }
   ],
   "source": [
    "print(\"Result using (u + v) + w:\\n\", result1)\n",
    "print(\"Result using u + (v + w):\\n\", result2)"
   ]
  },
  {
   "cell_type": "markdown",
   "id": "5b99f1d9-c863-43f0-9c28-fed277ea5056",
   "metadata": {
    "tags": []
   },
   "source": [
    "##### Distributive Property over Vector Addition:\n",
    "Scalar multiplication distributes over vector addition. This property states that multiplying a scalar by the sum of two vectors is the same as the sum of the scalar multiples of those vectors.\n",
    "\n",
    "c⋅(u+v)=c⋅u+c⋅v"
   ]
  },
  {
   "cell_type": "code",
   "execution_count": 21,
   "id": "be7c8467-285b-45aa-b0b6-97c945f5163a",
   "metadata": {
    "tags": []
   },
   "outputs": [
    {
     "name": "stdout",
     "output_type": "stream",
     "text": [
      "Result using c * (u + v): [ 8 12]\n",
      "Result using c * u + c * v: [ 8 12]\n"
     ]
    }
   ],
   "source": [
    "scalar = 2\n",
    "vector_u = np.array([1, 2])\n",
    "vector_v = np.array([3, 4])\n",
    "\n",
    "result1 = scalar * (vector_u + vector_v)\n",
    "result2 = scalar *  vector_u + scalar * vector_v\n",
    "\n",
    "print(\"Result using c * (u + v):\", result1)\n",
    "print(\"Result using c * u + c * v:\", result2)"
   ]
  },
  {
   "cell_type": "markdown",
   "id": "d686b265-5377-463a-9838-03695e4717fc",
   "metadata": {},
   "source": [
    "##### Associative Property of Scalar Multiplication:\n",
    "Scalar multiplication is associative, meaning that the product of a scalar and the product of two vectors is the same, regardless of how you group the scalars and vectors.\n",
    "\n",
    "\n",
    "(a⋅b)⋅v=a⋅(b⋅v)"
   ]
  },
  {
   "cell_type": "code",
   "execution_count": 22,
   "id": "90aa6e97-6c3d-48e4-8354-2ae6f4bf1d14",
   "metadata": {
    "tags": []
   },
   "outputs": [
    {
     "name": "stdout",
     "output_type": "stream",
     "text": [
      "Result using (a * b) * v: [ 6 12]\n",
      "Result using a * (b * v): [ 6 12]\n"
     ]
    }
   ],
   "source": [
    "scalar_a = 2\n",
    "scalar_b = 3\n",
    "vector_v = np.array([1, 2])\n",
    "\n",
    "result1 = (scalar_a * scalar_b) * vector_v\n",
    "result2 =  scalar_a * (scalar_b * vector_v)\n",
    "\n",
    "print(\"Result using (a * b) * v:\", result1)\n",
    "print(\"Result using a * (b * v):\", result2)"
   ]
  },
  {
   "cell_type": "markdown",
   "id": "ee1363f9-5dc2-48af-964f-4b674cdef805",
   "metadata": {},
   "source": [
    "##### Commutative Property of Dot Product:\n",
    "The dot product of two vectors is commutative, meaning that the order of vectors in the product doesn't affect the result.\n",
    "\n",
    "u⋅v=v⋅u"
   ]
  },
  {
   "cell_type": "code",
   "execution_count": 23,
   "id": "bd8fbbe5-a5af-4475-9cd4-6ab8e205e9cc",
   "metadata": {
    "tags": []
   },
   "outputs": [
    {
     "name": "stdout",
     "output_type": "stream",
     "text": [
      "Result using u dot v: 32\n",
      "Result using v dot u: 32\n"
     ]
    }
   ],
   "source": [
    "vector_u = np.array([1, 2, 3])\n",
    "vector_v = np.array([4, 5, 6])\n",
    "\n",
    "result1 = np.dot(vector_u, vector_v)\n",
    "result2 = np.dot(vector_v, vector_u)\n",
    "\n",
    "print(\"Result using u dot v:\", result1)\n",
    "print(\"Result using v dot u:\", result2)"
   ]
  },
  {
   "cell_type": "markdown",
   "id": "c3ef55e0-2279-4912-ac68-9e1b403d1bdd",
   "metadata": {},
   "source": [
    "##### Distributive Property of Dot Product over Vector Addition:\n",
    "The dot product distributes over vector addition, meaning that the dot product of a vector sum is the same as the sum of the dot products of the individual vectors.\n",
    "\n",
    "\n",
    "u⋅(v+w)=u⋅v+u⋅w"
   ]
  },
  {
   "cell_type": "code",
   "execution_count": 24,
   "id": "311f7a1a-7d50-4a0e-af37-c24244d83cb0",
   "metadata": {
    "tags": []
   },
   "outputs": [
    {
     "name": "stdout",
     "output_type": "stream",
     "text": [
      "Result using u dot (v + w): 28\n",
      "Result using u dot v + u dot w: 28\n"
     ]
    }
   ],
   "source": [
    "vector_u = np.array([1, 2])\n",
    "vector_v = np.array([3, 4])\n",
    "vector_w = np.array([5, 6])\n",
    "\n",
    "result1 = np.dot(vector_u, vector_v + vector_w)\n",
    "result2 = np.dot(vector_u, vector_v) + np.dot(vector_u, vector_w)\n",
    "\n",
    "print(\"Result using u dot (v + w):\", result1)\n",
    "print(\"Result using u dot v + u dot w:\", result2)"
   ]
  },
  {
   "cell_type": "code",
   "execution_count": null,
   "id": "6d1f6e98-733b-4b6d-a3a5-ac41345c1ed6",
   "metadata": {},
   "outputs": [],
   "source": []
  }
 ],
 "metadata": {
  "kernelspec": {
   "display_name": "Python 3 (ipykernel)",
   "language": "python",
   "name": "python3"
  },
  "language_info": {
   "codemirror_mode": {
    "name": "ipython",
    "version": 3
   },
   "file_extension": ".py",
   "mimetype": "text/x-python",
   "name": "python",
   "nbconvert_exporter": "python",
   "pygments_lexer": "ipython3",
   "version": "3.11.3"
  }
 },
 "nbformat": 4,
 "nbformat_minor": 5
}
