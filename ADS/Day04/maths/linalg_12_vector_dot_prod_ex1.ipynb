{
 "cells": [
  {
   "cell_type": "markdown",
   "id": "a174fcc1-c4bf-4484-8de4-091fc60d32ff",
   "metadata": {},
   "source": [
    "-----------------------\n",
    "#### Application of vector similarity measures\n",
    "-------------------------"
   ]
  },
  {
   "cell_type": "code",
   "execution_count": 1,
   "id": "d73d3d79-0b86-4dad-bfcb-213207f91977",
   "metadata": {
    "tags": []
   },
   "outputs": [],
   "source": [
    "import numpy as np\n",
    "import pandas as pd\n",
    "\n",
    "from nltk import sent_tokenize, word_tokenize\n",
    "from nltk.stem import PorterStemmer\n",
    "import re\n",
    "\n",
    "from scipy.spatial import distance\n",
    "from sklearn.metrics.pairwise import cosine_similarity\n",
    "\n",
    "from sklearn.feature_extraction.text import TfidfVectorizer\n",
    "from sklearn.feature_extraction.text import CountVectorizer\n",
    "\n",
    "# import plotting libraries\n",
    "from mpl_toolkits.mplot3d.axes3d import Axes3D\n",
    "\n",
    "import matplotlib\n",
    "import matplotlib.pyplot as plt\n",
    "from pandas.plotting import scatter_matrix\n",
    "%matplotlib inline \n",
    "\n",
    "import seaborn as sns\n",
    "sns.set(style=\"white\", color_codes=True)\n",
    "sns.set(font_scale=1.5)\n",
    "\n",
    "from sklearn.preprocessing import normalize"
   ]
  },
  {
   "cell_type": "markdown",
   "id": "0f95d3a0-6f52-4e85-96fc-5e9d43ec7df4",
   "metadata": {},
   "source": [
    "#### what is Cosine Similarity\n",
    "\n",
    "- Intuitively, let’s say we have 2 vectors, each representing a sentence. If the vectors are close to parallel, maybe we assume that both sentences are “similar” in theme. Whereas if the vectors are orthogonal, then we assume the sentences are independent or NOT “similar”. \n",
    "\n",
    "$$ \\mbox{Cosine Similarity} = \\frac{\\sum_{i=1}^{n}{x_{i} y_{i}}}\n",
    "           {\\sqrt{\\sum_{i=1}^{n}{x_{i}^{2}}}\n",
    "            \\sqrt{\\sum_{i=1}^{n}{y_{i}^{2}}}}$$\n",
    "            \n",
    "$$ \\mbox{Cosine Distance} = 1 - \\mbox{Cosine Similarity} $$ \n",
    "\n",
    "The resulting similarity ranges from \n",
    "\n",
    "- −1 meaning exactly opposite, \n",
    "-  1 meaning exactly the same, \n",
    "-  0 indicating orthogonality or decorrelation, \n",
    "- while in-between values indicate intermediate similarity or dissimilarity.\n",
    "\n",
    "#### Applications\n",
    "- In practice, cosine similarity tends to be useful when trying to determine how similar two texts/documents are. \n",
    "\n",
    "- used for sentiment analysis, translation, for detecting plagiarism. \n",
    "\n",
    "- Cosine similarity works in these usecases because we ignore magnitude and focus solely on orientation. when the magnitude of the vectors does not matter. \n",
    "\n",
    "- In NLP, this might help us still detect that a much longer document has the same “theme” as a much shorter document since we don’t worry about the magnitude or the “length” of the documents themselves.\n",
    "\n",
    "- For __text matching__, the attribute vectors A and B are usually the term frequency vectors of the documents. Cosine similarity can be seen as a method of normalizing document length during comparison.\n",
    "\n",
    "- In the case of __information retrieval__, the cosine similarity of two documents will range from 0 to 1, since the term frequencies (using tf–idf weights) cannot be negative. The angle between two term frequency vectors cannot be greater than 90°."
   ]
  },
  {
   "cell_type": "code",
   "execution_count": 2,
   "id": "494d4800-ee7e-4b3a-b9b7-e4ddfbf1b0c5",
   "metadata": {
    "tags": []
   },
   "outputs": [],
   "source": [
    "# vectors\n",
    "a = np.array([1,  2,  3])\n",
    "b = np.array([10, 10, 40])"
   ]
  },
  {
   "cell_type": "code",
   "execution_count": 3,
   "id": "0096e47b-c32f-4310-856e-c2cbc541bfc9",
   "metadata": {
    "tags": []
   },
   "outputs": [
    {
     "data": {
      "text/plain": [
       "0.05508881747693195"
      ]
     },
     "execution_count": 3,
     "metadata": {},
     "output_type": "execute_result"
    }
   ],
   "source": [
    "# method - 1 - using scipy\n",
    "distance.cosine(a, b)"
   ]
  },
  {
   "cell_type": "code",
   "execution_count": 4,
   "id": "548ba9e0-05aa-489f-8f72-f0daad900159",
   "metadata": {
    "tags": []
   },
   "outputs": [
    {
     "name": "stdout",
     "output_type": "stream",
     "text": [
      "Cosine similarity is 0.944911182523068\n",
      "Cosine distance   is 0.05508881747693195\n"
     ]
    }
   ],
   "source": [
    "# method - 2 - using numpy\n",
    "# manually compute cosine similarity\n",
    "dot = np.dot(a, b)\n",
    "norma = np.linalg.norm(a)\n",
    "normb = np.linalg.norm(b)\n",
    "cos = dot / (norma * normb)\n",
    "\n",
    "print(\"Cosine similarity is {}\".format(cos))\n",
    "print(\"Cosine distance   is {}\".format(1-cos))"
   ]
  },
  {
   "cell_type": "code",
   "execution_count": 5,
   "id": "c3147f7c-10cf-49b1-8b02-32ccfa16c949",
   "metadata": {
    "tags": []
   },
   "outputs": [
    {
     "name": "stdout",
     "output_type": "stream",
     "text": [
      "Cosine similarity is 0.944911182523068\n",
      "Cosine distance   is 0.05508881747693195\n"
     ]
    }
   ],
   "source": [
    "# Method 3\n",
    "# define own cosine function\n",
    "def compute_cosine(a, b):\n",
    "    result_num = np.dot(a, b)\n",
    "    result_den = np.sqrt(np.sum(a **2)) * np.sqrt(np.sum(b ** 2))\n",
    "    \n",
    "    return result_num / result_den\n",
    "\n",
    "cos = compute_cosine(a, b)\n",
    "\n",
    "print(\"Cosine similarity is {}\".format(cos))\n",
    "print(\"Cosine distance   is {}\".format(1-cos))"
   ]
  },
  {
   "cell_type": "markdown",
   "id": "d7ee2c2f-38b9-4c75-8f0c-922415b83e66",
   "metadata": {},
   "source": [
    "#### When to use the cosine similarity?"
   ]
  },
  {
   "cell_type": "code",
   "execution_count": 6,
   "id": "f1d71114-0602-4c6d-92ab-393b9c9cf1d2",
   "metadata": {
    "tags": []
   },
   "outputs": [
    {
     "data": {
      "text/html": [
       "<div>\n",
       "<style scoped>\n",
       "    .dataframe tbody tr th:only-of-type {\n",
       "        vertical-align: middle;\n",
       "    }\n",
       "\n",
       "    .dataframe tbody tr th {\n",
       "        vertical-align: top;\n",
       "    }\n",
       "\n",
       "    .dataframe thead th {\n",
       "        text-align: right;\n",
       "    }\n",
       "</style>\n",
       "<table border=\"1\" class=\"dataframe\">\n",
       "  <thead>\n",
       "    <tr style=\"text-align: right;\">\n",
       "      <th></th>\n",
       "      <th>weight</th>\n",
       "      <th>length</th>\n",
       "      <th>label</th>\n",
       "    </tr>\n",
       "  </thead>\n",
       "  <tbody>\n",
       "    <tr>\n",
       "      <th>0</th>\n",
       "      <td>6.6</td>\n",
       "      <td>6.2</td>\n",
       "      <td>1.0</td>\n",
       "    </tr>\n",
       "    <tr>\n",
       "      <th>1</th>\n",
       "      <td>9.7</td>\n",
       "      <td>9.9</td>\n",
       "      <td>2.0</td>\n",
       "    </tr>\n",
       "    <tr>\n",
       "      <th>2</th>\n",
       "      <td>8.0</td>\n",
       "      <td>8.3</td>\n",
       "      <td>2.0</td>\n",
       "    </tr>\n",
       "    <tr>\n",
       "      <th>3</th>\n",
       "      <td>6.3</td>\n",
       "      <td>5.4</td>\n",
       "      <td>1.0</td>\n",
       "    </tr>\n",
       "    <tr>\n",
       "      <th>4</th>\n",
       "      <td>1.3</td>\n",
       "      <td>2.7</td>\n",
       "      <td>0.0</td>\n",
       "    </tr>\n",
       "    <tr>\n",
       "      <th>5</th>\n",
       "      <td>2.3</td>\n",
       "      <td>3.1</td>\n",
       "      <td>0.0</td>\n",
       "    </tr>\n",
       "    <tr>\n",
       "      <th>6</th>\n",
       "      <td>6.6</td>\n",
       "      <td>6.0</td>\n",
       "      <td>1.0</td>\n",
       "    </tr>\n",
       "    <tr>\n",
       "      <th>7</th>\n",
       "      <td>6.5</td>\n",
       "      <td>6.4</td>\n",
       "      <td>1.0</td>\n",
       "    </tr>\n",
       "    <tr>\n",
       "      <th>8</th>\n",
       "      <td>6.3</td>\n",
       "      <td>5.8</td>\n",
       "      <td>1.0</td>\n",
       "    </tr>\n",
       "    <tr>\n",
       "      <th>9</th>\n",
       "      <td>9.5</td>\n",
       "      <td>9.9</td>\n",
       "      <td>2.0</td>\n",
       "    </tr>\n",
       "    <tr>\n",
       "      <th>10</th>\n",
       "      <td>8.9</td>\n",
       "      <td>8.9</td>\n",
       "      <td>2.0</td>\n",
       "    </tr>\n",
       "    <tr>\n",
       "      <th>11</th>\n",
       "      <td>8.7</td>\n",
       "      <td>9.5</td>\n",
       "      <td>2.0</td>\n",
       "    </tr>\n",
       "    <tr>\n",
       "      <th>12</th>\n",
       "      <td>2.5</td>\n",
       "      <td>3.8</td>\n",
       "      <td>0.0</td>\n",
       "    </tr>\n",
       "    <tr>\n",
       "      <th>13</th>\n",
       "      <td>2.0</td>\n",
       "      <td>3.1</td>\n",
       "      <td>0.0</td>\n",
       "    </tr>\n",
       "    <tr>\n",
       "      <th>14</th>\n",
       "      <td>1.3</td>\n",
       "      <td>1.3</td>\n",
       "      <td>0.0</td>\n",
       "    </tr>\n",
       "  </tbody>\n",
       "</table>\n",
       "</div>"
      ],
      "text/plain": [
       "    weight  length  label\n",
       "0      6.6     6.2    1.0\n",
       "1      9.7     9.9    2.0\n",
       "2      8.0     8.3    2.0\n",
       "3      6.3     5.4    1.0\n",
       "4      1.3     2.7    0.0\n",
       "5      2.3     3.1    0.0\n",
       "6      6.6     6.0    1.0\n",
       "7      6.5     6.4    1.0\n",
       "8      6.3     5.8    1.0\n",
       "9      9.5     9.9    2.0\n",
       "10     8.9     8.9    2.0\n",
       "11     8.7     9.5    2.0\n",
       "12     2.5     3.8    0.0\n",
       "13     2.0     3.1    0.0\n",
       "14     1.3     1.3    0.0"
      ]
     },
     "execution_count": 6,
     "metadata": {},
     "output_type": "execute_result"
    }
   ],
   "source": [
    "X = np.array([[6.6, 6.2, 1],\n",
    "              [9.7, 9.9, 2],\n",
    "              [8.0, 8.3, 2],\n",
    "              [6.3, 5.4, 1],\n",
    "              [1.3, 2.7, 0],\n",
    "              [2.3, 3.1, 0],\n",
    "              [6.6, 6.0, 1],\n",
    "              [6.5, 6.4, 1],\n",
    "              [6.3, 5.8, 1],\n",
    "              [9.5, 9.9, 2],\n",
    "              [8.9, 8.9, 2],\n",
    "              [8.7, 9.5, 2],\n",
    "              [2.5, 3.8, 0],\n",
    "              [2.0, 3.1, 0],\n",
    "              [1.3, 1.3, 0]])\n",
    "\n",
    "df = pd.DataFrame(X, columns=['weight', 'length', 'label'])\n",
    "df"
   ]
  },
  {
   "cell_type": "code",
   "execution_count": 7,
   "id": "495df808-8932-4535-ad21-af7507e834c0",
   "metadata": {
    "tags": []
   },
   "outputs": [
    {
     "data": {
      "image/png": "[encoded data removed]",
      "text/plain": [
       "<Figure size 640x480 with 1 Axes>"
      ]
     },
     "metadata": {},
     "output_type": "display_data"
    }
   ],
   "source": [
    "ax = df[df['label'] == 0].plot.scatter(x='weight', y='length', c='blue',   label='young')\n",
    "ax = df[df['label'] == 1].plot.scatter(x='weight', y='length', c='orange', label='mid',   ax=ax)\n",
    "ax = df[df['label'] == 2].plot.scatter(x='weight', y='length', c='red',    label='adult', ax=ax)\n",
    "\n",
    "ax;"
   ]
  },
  {
   "cell_type": "markdown",
   "id": "ca0014fd-55a6-4e49-9d99-6926801991ea",
   "metadata": {},
   "source": [
    "Looking at the plot above, we can see that the 3 classes are pretty well distinguishable by these 2 features that we have. \n",
    "\n",
    "Say that we apply k-NN to our data that will learn to classify new instances based on their distance to our known instances (and their labels). \n",
    "\n",
    "The algorithm needs a distance metric to determine which of the known instances are closest to the new one. "
   ]
  },
  {
   "cell_type": "code",
   "execution_count": 8,
   "id": "764786cb-19cb-4514-9eb9-d672c2b1de11",
   "metadata": {
    "tags": []
   },
   "outputs": [
    {
     "data": {
      "image/png": "[encoded data removed]",
      "text/plain": [
       "<Figure size 640x480 with 1 Axes>"
      ]
     },
     "metadata": {},
     "output_type": "display_data"
    }
   ],
   "source": [
    "# Considering instance #0, #1, and #4 to be our known instances, we assume that we don’t know \n",
    "# the label of #14. \n",
    "# Plotting this will look as follows:\n",
    "\n",
    "df2 = pd.DataFrame([df.iloc[0], df.iloc[1], df.iloc[4]], columns=['weight', 'length', 'label'])\n",
    "df3 = pd.DataFrame([df.iloc[14]], columns=['weight', 'length', 'label'])\n",
    "\n",
    "ax = df2[df2['label'] == 0].plot.scatter(x='weight', y='length', c='blue',   label='young')\n",
    "ax = df2[df2['label'] == 1].plot.scatter(x='weight', y='length', c='orange', label='mid',   ax=ax)\n",
    "ax = df2[df2['label'] == 2].plot.scatter(x='weight', y='length', c='red',    label='adult', ax=ax)\n",
    "\n",
    "ax = df3.plot.scatter(x='weight', y='length', c='gray', label='?', ax=ax)"
   ]
  },
  {
   "cell_type": "markdown",
   "id": "2bcd6f9a-9f51-48a8-85cc-825b44170870",
   "metadata": {
    "tags": []
   },
   "source": [
    "#### Euclidean\n",
    "Our euclidean distance function can be defined as follows:\n",
    "\n",
    "$$ \\Large \\sqrt{\\sum^n_{i=1} (x_i - y_i)^2} $$"
   ]
  },
  {
   "cell_type": "code",
   "execution_count": 9,
   "id": "ae28842c-3e71-4bc5-ab72-bb5a056cf599",
   "metadata": {
    "tags": []
   },
   "outputs": [],
   "source": [
    "def euclidean_distance(x, y):   \n",
    "    return np.sqrt(np.sum((x - y) ** 2))"
   ]
  },
  {
   "cell_type": "code",
   "execution_count": 10,
   "id": "92af64cd-c5fc-4d89-9f19-308d4a834104",
   "metadata": {
    "tags": []
   },
   "outputs": [
    {
     "data": {
      "text/plain": [
       "array([9.7, 9.9])"
      ]
     },
     "execution_count": 10,
     "metadata": {},
     "output_type": "execute_result"
    }
   ],
   "source": [
    "X[1][:-1]"
   ]
  },
  {
   "cell_type": "code",
   "execution_count": 11,
   "id": "4b51a083-b3bd-40c1-9944-990986ebd1b2",
   "metadata": {
    "tags": []
   },
   "outputs": [
    {
     "name": "stdout",
     "output_type": "stream",
     "text": [
      " x0: [6.6 6.2] \n",
      " x1: [9.7 9.9] \n",
      " x4: [1.3 2.7] \n",
      "x14: [1.3 1.3]\n"
     ]
    }
   ],
   "source": [
    "x0 = X[0][:-1]\n",
    "x1 = X[1][:-1]\n",
    "x4 = X[4][:-1]\n",
    "\n",
    "x14 = X[14][:-1]\n",
    "print(\" x0:\", x0, \"\\n x1:\", x1, \"\\n x4:\", x4, \"\\nx14:\", x14)"
   ]
  },
  {
   "cell_type": "code",
   "execution_count": 12,
   "id": "ea992694-af35-4fef-a2ea-99bce204f88e",
   "metadata": {
    "tags": []
   },
   "outputs": [
    {
     "name": "stdout",
     "output_type": "stream",
     "text": [
      "x14 and x0: 7.218032973047436 \n",
      " x14 and x1: 12.021647141718974 \n",
      " x14 and x4: 1.4000000000000001\n"
     ]
    }
   ],
   "source": [
    "print(\"x14 and x0:\", euclidean_distance(x14, x0), \"\\n\",\n",
    "      \"x14 and x1:\", euclidean_distance(x14, x1), \"\\n\",\n",
    "      \"x14 and x4:\", euclidean_distance(x14, x4))"
   ]
  },
  {
   "cell_type": "markdown",
   "id": "fd989d3c-5339-4a1d-bcc5-ce6dcb463a14",
   "metadata": {},
   "source": [
    "According to euclidean distance, instance #14 is closest to #4. Our 4th instance had the label:\n",
    "\n",
    "0 = young, which is what we would visually also deem the correct label for this instance."
   ]
  },
  {
   "cell_type": "code",
   "execution_count": 13,
   "id": "d552d859-3712-4d1e-9c94-61933b265ab5",
   "metadata": {
    "tags": []
   },
   "outputs": [
    {
     "data": {
      "text/plain": [
       "array([1.3, 2.7, 0. ])"
      ]
     },
     "execution_count": 13,
     "metadata": {},
     "output_type": "execute_result"
    }
   ],
   "source": [
    "X[4]"
   ]
  },
  {
   "cell_type": "code",
   "execution_count": null,
   "id": "94b2382c-f3ed-4725-9561-d151cd79c92d",
   "metadata": {},
   "outputs": [],
   "source": []
  },
  {
   "cell_type": "markdown",
   "id": "e3ac2190-b369-4d33-b99a-0a761ac1d2e1",
   "metadata": {},
   "source": [
    "#### Cosine\n",
    "Our cosine similarity function can be defined as follows:\n",
    "\n",
    "$$ \\Large \\frac{x \\bullet y}{ \\sqrt{x \\bullet x} \\sqrt{y \\bullet y}} $$\n",
    "\n",
    "Where x and y are two vectors"
   ]
  },
  {
   "cell_type": "code",
   "execution_count": 14,
   "id": "ae35984b-1358-4382-880d-9184d53cc316",
   "metadata": {
    "tags": []
   },
   "outputs": [],
   "source": [
    "def fn_cosine_similarity(x, y):\n",
    "    return np.dot(x, y) / (np.sqrt(np.dot(x, x)) * np.sqrt(np.dot(y, y)))"
   ]
  },
  {
   "cell_type": "code",
   "execution_count": 15,
   "id": "8e71b97a-0561-41e8-9cfb-bcec786a131a",
   "metadata": {
    "tags": []
   },
   "outputs": [
    {
     "name": "stdout",
     "output_type": "stream",
     "text": [
      " x14 and x0: 0.9995120760870786 \n",
      " x14 and x1: 0.9999479424242859 \n",
      " x14 and x4: 0.9438583563660174\n"
     ]
    }
   ],
   "source": [
    "print(\" x14 and x0:\", fn_cosine_similarity(x14, x0), \"\\n\",\n",
    "      \"x14 and x1:\",  fn_cosine_similarity(x14, x1), \"\\n\",\n",
    "      \"x14 and x4:\",  fn_cosine_similarity(x14, x4))"
   ]
  },
  {
   "cell_type": "markdown",
   "id": "bd126110-9ede-4467-baf6-804109164305",
   "metadata": {},
   "source": [
    "According to cosine similarity, instance #14 is closest to #1. However, our 1st instance had the label:\n",
    "\n",
    "2 = adult, which is definitely NOT correct!"
   ]
  },
  {
   "cell_type": "code",
   "execution_count": 16,
   "id": "4daf778e-b17e-43af-9486-6a9389238e2e",
   "metadata": {
    "tags": []
   },
   "outputs": [
    {
     "data": {
      "text/plain": [
       "array([9.7, 9.9, 2. ])"
      ]
     },
     "execution_count": 16,
     "metadata": {},
     "output_type": "execute_result"
    }
   ],
   "source": [
    "X[1]"
   ]
  },
  {
   "attachments": {
    "cosine_similarity.png": {
     "image/png": "[encoded data removed]"
    }
   },
   "cell_type": "markdown",
   "id": "8d696eba-2b82-49fc-84c2-6f6e9e0704d6",
   "metadata": {},
   "source": [
    "#### So what is the deal here ??\n",
    "\n",
    "![cosine_similarity.png](attachment:cosine_similarity.png)\n",
    "\n",
    "- visual representation of euclidean distance (d) and cosine similarity (θ)\n",
    "- cosine looks at the angle between vectors (thus not taking into regard their weight or magnitude) \n",
    "- euclidean distance is similar to using a ruler to actually measure the distance. \n",
    "\n",
    "In our example the angle between x14 and x4 was larger than those of the other vectors, even though they were further away."
   ]
  },
  {
   "cell_type": "code",
   "execution_count": 17,
   "id": "acae2b7f-fcda-40b5-aebf-d4d0cc45f300",
   "metadata": {
    "tags": []
   },
   "outputs": [
    {
     "name": "stdout",
     "output_type": "stream",
     "text": [
      "[6.6 6.2] [9.7 9.9] [1.3 2.7] [1.3 1.3]\n"
     ]
    }
   ],
   "source": [
    "print(x0 , x1 , x4 , x14 )"
   ]
  },
  {
   "cell_type": "code",
   "execution_count": 18,
   "id": "334fd942-c6b3-4dc1-a0ea-f56dbc1911a5",
   "metadata": {
    "tags": []
   },
   "outputs": [
    {
     "data": {
      "text/plain": [
       "(0.0, 12.0)"
      ]
     },
     "execution_count": 18,
     "metadata": {},
     "output_type": "execute_result"
    },
    {
     "data": {
      "image/png": "[encoded data removed]",
      "text/plain": [
       "<Figure size 1600x600 with 1 Axes>"
      ]
     },
     "metadata": {},
     "output_type": "display_data"
    }
   ],
   "source": [
    "plt.figure(figsize=(16, 6))\n",
    "plt.arrow(0, 0, x0[0], x0[1], head_width = .5,  head_length= .5, fc='y', ec='k')\n",
    "plt.annotate('0, class 1 ', xy=(x0[0], x0[1]), xytext=(x0[0],x0[1]))\n",
    "\n",
    "plt.arrow(0, 0, x1[0], x1[1], head_width = .5,  head_length= .5, fc='y', ec='k')\n",
    "plt.annotate('1, class 2 ', xy=(x1[0], x1[1]), xytext=(x1[0],x1[1]))\n",
    "\n",
    "plt.arrow(0, 0, x4[0], x4[1], head_width = .5,  head_length= .5, fc='y', ec='k')\n",
    "plt.annotate('4, class 0 ', xy=(x4[0], x4[1]), xytext=(x4[0],x4[1]))\n",
    "\n",
    "plt.arrow(0, 0, x14[0], x14[1], head_width = .5,  head_length= .5, fc='y', ec='g')\n",
    "\n",
    "plt.xlim(0, 12)\n",
    "plt.ylim(0, 12)"
   ]
  },
  {
   "cell_type": "code",
   "execution_count": 19,
   "id": "7b1e1365-ff65-47c4-9f19-2587bfdbebbf",
   "metadata": {
    "tags": []
   },
   "outputs": [
    {
     "data": {
      "text/html": [
       "<div>\n",
       "<style scoped>\n",
       "    .dataframe tbody tr th:only-of-type {\n",
       "        vertical-align: middle;\n",
       "    }\n",
       "\n",
       "    .dataframe tbody tr th {\n",
       "        vertical-align: top;\n",
       "    }\n",
       "\n",
       "    .dataframe thead th {\n",
       "        text-align: right;\n",
       "    }\n",
       "</style>\n",
       "<table border=\"1\" class=\"dataframe\">\n",
       "  <thead>\n",
       "    <tr style=\"text-align: right;\">\n",
       "      <th></th>\n",
       "      <th>weight</th>\n",
       "      <th>length</th>\n",
       "      <th>label</th>\n",
       "    </tr>\n",
       "  </thead>\n",
       "  <tbody>\n",
       "    <tr>\n",
       "      <th>0</th>\n",
       "      <td>6.6</td>\n",
       "      <td>6.2</td>\n",
       "      <td>1.0</td>\n",
       "    </tr>\n",
       "    <tr>\n",
       "      <th>1</th>\n",
       "      <td>9.7</td>\n",
       "      <td>9.9</td>\n",
       "      <td>2.0</td>\n",
       "    </tr>\n",
       "    <tr>\n",
       "      <th>4</th>\n",
       "      <td>1.3</td>\n",
       "      <td>2.7</td>\n",
       "      <td>0.0</td>\n",
       "    </tr>\n",
       "    <tr>\n",
       "      <th>14</th>\n",
       "      <td>1.3</td>\n",
       "      <td>1.3</td>\n",
       "      <td>0.0</td>\n",
       "    </tr>\n",
       "  </tbody>\n",
       "</table>\n",
       "</div>"
      ],
      "text/plain": [
       "    weight  length  label\n",
       "0      6.6     6.2    1.0\n",
       "1      9.7     9.9    2.0\n",
       "4      1.3     2.7    0.0\n",
       "14     1.3     1.3    0.0"
      ]
     },
     "execution_count": 19,
     "metadata": {},
     "output_type": "execute_result"
    }
   ],
   "source": [
    "# the 3 training and 1 test points\n",
    "df.iloc[[0, 1, 4, 14]]"
   ]
  },
  {
   "cell_type": "code",
   "execution_count": null,
   "id": "c24bf5c5-7763-4c57-9a8b-7b317920595e",
   "metadata": {},
   "outputs": [],
   "source": []
  },
  {
   "cell_type": "code",
   "execution_count": null,
   "id": "5c1f0cb6-2f34-43c8-9e79-4715dc4091d0",
   "metadata": {},
   "outputs": [],
   "source": []
  },
  {
   "cell_type": "code",
   "execution_count": null,
   "id": "86d43370-3cf4-40ba-8c03-62612e094edc",
   "metadata": {},
   "outputs": [],
   "source": []
  },
  {
   "cell_type": "code",
   "execution_count": null,
   "id": "04b005e4-0709-40af-b93e-b3876a1d7e06",
   "metadata": {},
   "outputs": [],
   "source": []
  }
 ],
 "metadata": {
  "kernelspec": {
   "display_name": "Python 3 (ipykernel)",
   "language": "python",
   "name": "python3"
  },
  "language_info": {
   "codemirror_mode": {
    "name": "ipython",
    "version": 3
   },
   "file_extension": ".py",
   "mimetype": "text/x-python",
   "name": "python",
   "nbconvert_exporter": "python",
   "pygments_lexer": "ipython3",
   "version": "3.11.3"
  }
 },
 "nbformat": 4,
 "nbformat_minor": 5
}
