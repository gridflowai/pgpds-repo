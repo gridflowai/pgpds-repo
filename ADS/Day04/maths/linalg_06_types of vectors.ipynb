{
 "cells": [
  {
   "cell_type": "markdown",
   "id": "d1186321-d45f-4f27-be89-62199ad05fd1",
   "metadata": {},
   "source": [
    "### Types of vectors"
   ]
  },
  {
   "cell_type": "markdown",
   "id": "387322f0-0b18-4fe9-b661-ba00bdff571f",
   "metadata": {},
   "source": [
    "#### Column vector"
   ]
  },
  {
   "cell_type": "code",
   "execution_count": 1,
   "id": "c37c94ae-b56d-4f05-acd5-2ac07aaa9599",
   "metadata": {
    "tags": []
   },
   "outputs": [],
   "source": [
    "import numpy as np"
   ]
  },
  {
   "cell_type": "markdown",
   "id": "d8441787-112a-4b4c-af93-c11a95042328",
   "metadata": {},
   "source": [
    "##### Example 1"
   ]
  },
  {
   "cell_type": "code",
   "execution_count": 2,
   "id": "6b56479c-0b2c-46ce-b637-8de80a3224a8",
   "metadata": {
    "tags": []
   },
   "outputs": [],
   "source": [
    "# Example dataset: Student exam scores\n",
    "math_scores    = np.array([85, 90, 78, 92])\n",
    "physics_scores = np.array([70, 88, 75, 82])\n",
    "history_scores = np.array([65, 75, 80, 72])\n",
    "\n",
    "# Create column vectors\n",
    "student1_scores = np.array([[math_scores[0]], [physics_scores[0]], [history_scores[0]]])\n",
    "student2_scores = np.array([[math_scores[1]], [physics_scores[1]], [history_scores[1]]])\n",
    "\n",
    "# print(\"Student 1 Scores:\\n\", student1_scores)\n",
    "# print(\"Student 2 Scores:\\n\", student2_scores)"
   ]
  },
  {
   "cell_type": "code",
   "execution_count": 3,
   "id": "755756f8-6eb1-44a9-9081-bbc6b7ceae8a",
   "metadata": {
    "tags": []
   },
   "outputs": [
    {
     "data": {
      "text/plain": [
       "array([[85],\n",
       "       [70],\n",
       "       [65]])"
      ]
     },
     "execution_count": 3,
     "metadata": {},
     "output_type": "execute_result"
    }
   ],
   "source": [
    "student1_scores"
   ]
  },
  {
   "cell_type": "code",
   "execution_count": 4,
   "id": "dc6c3312-624c-46b5-a1a9-b27a0518fa82",
   "metadata": {
    "tags": []
   },
   "outputs": [
    {
     "data": {
      "text/plain": [
       "array([[90],\n",
       "       [88],\n",
       "       [75]])"
      ]
     },
     "execution_count": 4,
     "metadata": {},
     "output_type": "execute_result"
    }
   ],
   "source": [
    "student2_scores"
   ]
  },
  {
   "cell_type": "markdown",
   "id": "8c8939fe-1d46-41db-8651-a5c4578e082a",
   "metadata": {},
   "source": [
    "`student1_scores` and `student2_scores` are column vectors representing the exam scores of two different students."
   ]
  },
  {
   "cell_type": "markdown",
   "id": "69a39c53-de11-4d7d-b6d8-a61209d1612d",
   "metadata": {},
   "source": [
    "##### Example 2: Representing Features\n",
    "\n",
    "In machine learning, column vectors are often used to represent features. Let's consider a dataset of house characteristics, and we want to represent each house's features as a column vector."
   ]
  },
  {
   "cell_type": "code",
   "execution_count": 5,
   "id": "f5f2ba4b-5ba5-4ad5-bf0c-f1251b9c381e",
   "metadata": {
    "tags": []
   },
   "outputs": [],
   "source": [
    "# Example dataset: House features\n",
    "house1_features = np.array([2000, 3, 2.5])  # [Square footage, Bedrooms, Bathrooms]\n",
    "house2_features = np.array([1500, 2, 2.0])"
   ]
  },
  {
   "cell_type": "code",
   "execution_count": 6,
   "id": "675e13db-4bbd-4e97-a993-09b8d966ab50",
   "metadata": {
    "tags": []
   },
   "outputs": [],
   "source": [
    "# Create column vectors\n",
    "house1_vector = house1_features.reshape(-1, 1)\n",
    "house2_vector = house2_features.reshape(-1, 1)"
   ]
  },
  {
   "cell_type": "code",
   "execution_count": 7,
   "id": "57dcf610-eb8a-4467-9361-42e6681d6052",
   "metadata": {
    "tags": []
   },
   "outputs": [
    {
     "data": {
      "text/plain": [
       "array([[2000. ],\n",
       "       [   3. ],\n",
       "       [   2.5]])"
      ]
     },
     "execution_count": 7,
     "metadata": {},
     "output_type": "execute_result"
    }
   ],
   "source": [
    "house1_vector"
   ]
  },
  {
   "cell_type": "code",
   "execution_count": 8,
   "id": "cf9883b3-611e-4024-8332-904eb9b69bf2",
   "metadata": {
    "tags": []
   },
   "outputs": [
    {
     "data": {
      "text/plain": [
       "array([[1500.],\n",
       "       [   2.],\n",
       "       [   2.]])"
      ]
     },
     "execution_count": 8,
     "metadata": {},
     "output_type": "execute_result"
    }
   ],
   "source": [
    "house2_vector"
   ]
  },
  {
   "cell_type": "markdown",
   "id": "fa7a8726-576f-4cdd-9cbd-cbaefa1b675d",
   "metadata": {},
   "source": [
    "##### Application: Linear Regression\n",
    "\n",
    "Column vectors are widely used in linear regression, where the features of each data point are represented as column vectors. These vectors are used to compute the predictions and perform optimization to find the best-fitting line or hyperplane."
   ]
  },
  {
   "cell_type": "code",
   "execution_count": 9,
   "id": "6fdebb7a-e188-4469-8d6f-1374c8c482de",
   "metadata": {
    "tags": []
   },
   "outputs": [],
   "source": [
    "from sklearn.linear_model import LinearRegression"
   ]
  },
  {
   "cell_type": "code",
   "execution_count": 10,
   "id": "485391d4-9a67-42d6-9caf-caa736fabc5c",
   "metadata": {
    "tags": []
   },
   "outputs": [],
   "source": [
    "# Example dataset: House features and prices\n",
    "features = np.array([[2000, 3], \n",
    "                     [1500, 2]])  # Features: Square footage, Bedrooms\n",
    "prices   = np.array([300000, 200000])  # Prices"
   ]
  },
  {
   "cell_type": "code",
   "execution_count": 11,
   "id": "ecf891bb-4353-4dfe-8942-f2405c8e7e3a",
   "metadata": {
    "tags": []
   },
   "outputs": [
    {
     "data": {
      "text/plain": [
       "LinearRegression()"
      ]
     },
     "execution_count": 11,
     "metadata": {},
     "output_type": "execute_result"
    }
   ],
   "source": [
    "# Create a linear regression model\n",
    "model = LinearRegression()\n",
    "model.fit(features, prices)"
   ]
  },
  {
   "cell_type": "code",
   "execution_count": 12,
   "id": "73b7a0d5-51d2-4276-8c5c-9eb8b56ad1a0",
   "metadata": {
    "tags": []
   },
   "outputs": [
    {
     "name": "stdout",
     "output_type": "stream",
     "text": [
      "Predicted Price: [259999.76000096]\n"
     ]
    }
   ],
   "source": [
    "# Predict price for a new house\n",
    "new_house = np.array([[1800, 2]])\n",
    "predicted_price = model.predict(new_house)\n",
    "\n",
    "print(\"Predicted Price:\", predicted_price)"
   ]
  },
  {
   "cell_type": "markdown",
   "id": "46071c6b-d4d9-4bcf-b828-6f7389dee5e0",
   "metadata": {},
   "source": [
    "In this example, the feature vectors are used to train a linear regression model to predict house prices based on square footage and number of bedrooms. The prediction is then made using a new feature vector representing a new house's features."
   ]
  },
  {
   "cell_type": "markdown",
   "id": "78f81631-4b92-4f6a-b808-7032f6596a02",
   "metadata": {},
   "source": [
    "#### Row Vector"
   ]
  },
  {
   "cell_type": "markdown",
   "id": "b266fb63-bbd3-42e2-958e-603a5edc4890",
   "metadata": {},
   "source": [
    "Row vectors are horizontal vectors that consist of a single row of values. In data science and machine learning, row vectors are used to represent features, coefficients, or instances in various computations and analyses. "
   ]
  },
  {
   "cell_type": "code",
   "execution_count": 13,
   "id": "864e38a0-9b4b-4e5e-883e-083f730396ca",
   "metadata": {
    "tags": []
   },
   "outputs": [],
   "source": [
    "# Example feature row vector (age, test score, hours studied)\n",
    "student_features = np.array([20, 85, 10])"
   ]
  },
  {
   "cell_type": "code",
   "execution_count": 14,
   "id": "91cf610b-1d66-4df7-9529-aa41d2f58a9a",
   "metadata": {
    "tags": []
   },
   "outputs": [
    {
     "name": "stdout",
     "output_type": "stream",
     "text": [
      "Feature Row Vector: [20 85 10]\n"
     ]
    }
   ],
   "source": [
    "print(\"Feature Row Vector:\", student_features)"
   ]
  },
  {
   "cell_type": "markdown",
   "id": "8ca5f013-e847-4533-8913-efd70a647e00",
   "metadata": {},
   "source": [
    "**Application: Calculating Dot Product**\n",
    "\n",
    "- One common application of row vectors is calculating the dot product between two vectors. \n",
    "\n",
    "- The dot product measures the similarity between vectors and is used in various algorithms, including linear regression and neural networks."
   ]
  },
  {
   "cell_type": "code",
   "execution_count": 15,
   "id": "670a24d2-6a60-41c6-bebf-a57189c00203",
   "metadata": {
    "tags": []
   },
   "outputs": [],
   "source": [
    "# Example row vectors\n",
    "vector1 = np.array([2, 3, 4])\n",
    "vector2 = np.array([5, 1, 2])"
   ]
  },
  {
   "cell_type": "code",
   "execution_count": 16,
   "id": "87e8c194-7be1-454b-b08d-ae0272f2e19d",
   "metadata": {
    "tags": []
   },
   "outputs": [
    {
     "name": "stdout",
     "output_type": "stream",
     "text": [
      "Dot Product: 21\n"
     ]
    }
   ],
   "source": [
    "# Calculate dot product\n",
    "dot_product = np.dot(vector1, vector2)\n",
    "\n",
    "print(\"Dot Product:\", dot_product)"
   ]
  },
  {
   "cell_type": "markdown",
   "id": "5a04781e-1019-454a-8a11-3ff22ed3867a",
   "metadata": {},
   "source": [
    "To normalize the dot product, you can divide the dot product of two vectors by the product of their magnitudes. This normalization technique results in a value between -1 and 1, known as the cosine similarity."
   ]
  },
  {
   "cell_type": "code",
   "execution_count": 17,
   "id": "889dd04c-3c31-477b-9f3c-fc725fa40b2f",
   "metadata": {
    "tags": []
   },
   "outputs": [
    {
     "name": "stdout",
     "output_type": "stream",
     "text": [
      "Cosine Similarity: 0.7119666788018509\n"
     ]
    }
   ],
   "source": [
    "# Calculate magnitudes of the vectors\n",
    "magnitude1 = np.linalg.norm(vector1)\n",
    "magnitude2 = np.linalg.norm(vector2)\n",
    "\n",
    "# Calculate cosine similarity (normalized dot product)\n",
    "cosine_similarity = dot_product / (magnitude1 * magnitude2)\n",
    "\n",
    "print(\"Cosine Similarity:\", cosine_similarity)"
   ]
  },
  {
   "cell_type": "markdown",
   "id": "5c2a9c30-aa3d-4597-8419-3950e3276d79",
   "metadata": {},
   "source": [
    "#### Position vectors\n",
    "\n",
    "- Position vectors describe the position of a point relative to a reference point or origin. \n",
    "\n",
    "- While they are not as commonly used in traditional data science and machine learning tasks, they can have applications in specialized areas like `geospatial analysis` and computer graphics. "
   ]
  },
  {
   "cell_type": "markdown",
   "id": "009061e0-310c-4348-a632-bcfa45f31bea",
   "metadata": {},
   "source": [
    "##### Example: Geospatial Analysis\n",
    "\n",
    "Let's say you're working with geospatial data and want to calculate the distance between two points on the Earth's surface using their latitude and longitude coordinates. \n",
    "\n",
    "Position vectors can help represent the locations of these points."
   ]
  },
  {
   "cell_type": "code",
   "execution_count": 18,
   "id": "264a188a-92c9-43f5-8fa1-39193c15ebc9",
   "metadata": {
    "tags": []
   },
   "outputs": [],
   "source": [
    "# Coordinates of two points (latitude, longitude)\n",
    "point_a = np.array([37.7749, -122.4194])  # San Francisco\n",
    "point_b = np.array([34.0522, -118.2437])  # Los Angeles"
   ]
  },
  {
   "cell_type": "code",
   "execution_count": 19,
   "id": "4555a63e-1597-4a9d-a7cc-13905d61df40",
   "metadata": {
    "tags": []
   },
   "outputs": [],
   "source": [
    "# Calculate the distance using Haversine formula\n",
    "def haversine_distance(coord1, coord2):\n",
    "    R = 6371  # Radius of Earth in kilometers\n",
    "    dlat = np.radians(coord2[0] - coord1[0])\n",
    "    dlon = np.radians(coord2[1] - coord1[1])\n",
    "    a = np.sin(dlat / 2) ** 2 + np.cos(np.radians(coord1[0])) * np.cos(np.radians(coord2[0])) * np.sin(dlon / 2) ** 2\n",
    "    c = 2 * np.arctan2(np.sqrt(a), np.sqrt(1 - a))\n",
    "    distance = R * c\n",
    "    return distance"
   ]
  },
  {
   "cell_type": "code",
   "execution_count": 20,
   "id": "ea34bf1c-f83d-44e8-8298-c67e662969a1",
   "metadata": {
    "tags": []
   },
   "outputs": [
    {
     "name": "stdout",
     "output_type": "stream",
     "text": [
      "Distance between San Francisco and Los Angeles: 559.1205770615533 km\n"
     ]
    }
   ],
   "source": [
    "distance = haversine_distance(point_a, point_b)\n",
    "print(\"Distance between San Francisco and Los Angeles:\", distance, \"km\")"
   ]
  },
  {
   "cell_type": "code",
   "execution_count": null,
   "id": "d34bb1b0-0230-449d-a5a6-23a9065b9445",
   "metadata": {},
   "outputs": [],
   "source": []
  }
 ],
 "metadata": {
  "kernelspec": {
   "display_name": "Python 3 (ipykernel)",
   "language": "python",
   "name": "python3"
  },
  "language_info": {
   "codemirror_mode": {
    "name": "ipython",
    "version": 3
   },
   "file_extension": ".py",
   "mimetype": "text/x-python",
   "name": "python",
   "nbconvert_exporter": "python",
   "pygments_lexer": "ipython3",
   "version": "3.9.13"
  }
 },
 "nbformat": 4,
 "nbformat_minor": 5
}
