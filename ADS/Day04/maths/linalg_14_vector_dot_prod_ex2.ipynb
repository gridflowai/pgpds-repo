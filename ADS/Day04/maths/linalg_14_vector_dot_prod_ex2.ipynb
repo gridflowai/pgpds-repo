{
 "cells": [
  {
   "cell_type": "code",
   "execution_count": 3,
   "id": "5aa7a373-50cb-405a-bed2-d591108fc4e4",
   "metadata": {
    "tags": []
   },
   "outputs": [],
   "source": [
    "#!pip install wikipedia"
   ]
  },
  {
   "cell_type": "code",
   "execution_count": 4,
   "id": "a0bc4d58-3cf6-4eab-b359-1ed92967a339",
   "metadata": {
    "tags": []
   },
   "outputs": [],
   "source": [
    "import wikipedia"
   ]
  },
  {
   "cell_type": "code",
   "execution_count": 5,
   "id": "1cd6d49c-79ae-401c-8484-0cb46689835b",
   "metadata": {
    "tags": []
   },
   "outputs": [],
   "source": [
    "q1 = wikipedia.page('Deep Learning')\n",
    "q2 = wikipedia.page('Artifical Intelligence')\n",
    "q3 = wikipedia.page('Analytics')\n",
    "q4 = wikipedia.page('Baseball')"
   ]
  },
  {
   "cell_type": "code",
   "execution_count": 6,
   "id": "51d06d43-060f-459c-bd5b-c123b0e62c2b",
   "metadata": {
    "tags": []
   },
   "outputs": [
    {
     "name": "stdout",
     "output_type": "stream",
     "text": [
      "ML \t 8121 \n",
      "AI \t 7795 \n",
      "soccer \t 2302 \n",
      "tennis \t 9526\n"
     ]
    }
   ],
   "source": [
    "print(\"ML \\t\",     len(q1.content.split()), \"\\n\"\n",
    "      \"AI \\t\",     len(q2.content.split()), \"\\n\"\n",
    "      \"soccer \\t\", len(q3.content.split()), \"\\n\"\n",
    "      \"tennis \\t\", len(q4.content.split()))"
   ]
  },
  {
   "cell_type": "markdown",
   "id": "138dd2d6-f155-4bcd-894c-0968f461670e",
   "metadata": {},
   "source": [
    "- `AI` is a much larger article than `Deep Learning` (DL). \n",
    "\n",
    "- This would mean that if we do not normalize our vectors, `AI` will be `much further away` from DL just because it has `many` more words. \n",
    "\n",
    "- DL will probably be closer to an article with less words. (simlar number of words)"
   ]
  },
  {
   "cell_type": "code",
   "execution_count": 8,
   "id": "d046991f-5a2a-4200-aa23-ed2186028688",
   "metadata": {
    "tags": []
   },
   "outputs": [],
   "source": [
    "import numpy as np\n",
    "import pandas as pd\n",
    "\n",
    "from nltk import sent_tokenize, word_tokenize\n",
    "from nltk.stem import PorterStemmer\n",
    "import re\n",
    "\n",
    "from scipy.spatial import distance\n",
    "from sklearn.metrics.pairwise import cosine_similarity\n",
    "\n",
    "from sklearn.feature_extraction.text import TfidfVectorizer\n",
    "from sklearn.feature_extraction.text import CountVectorizer\n",
    "\n",
    "# import plotting libraries\n",
    "from mpl_toolkits.mplot3d.axes3d import Axes3D\n",
    "\n",
    "import matplotlib\n",
    "import matplotlib.pyplot as plt\n",
    "from pandas.plotting import scatter_matrix\n",
    "%matplotlib inline \n",
    "\n",
    "import seaborn as sns\n",
    "sns.set(style=\"white\", color_codes=True)\n",
    "sns.set(font_scale=1.5)\n",
    "\n",
    "from sklearn.preprocessing import normalize"
   ]
  },
  {
   "cell_type": "code",
   "execution_count": 11,
   "id": "faaca663-1efa-4b62-9309-a95a8e1a930b",
   "metadata": {
    "tags": []
   },
   "outputs": [],
   "source": [
    "cv = CountVectorizer()"
   ]
  },
  {
   "cell_type": "code",
   "execution_count": 13,
   "id": "ddb1ffcd-88fd-4197-83e0-060414cae8c6",
   "metadata": {
    "tags": []
   },
   "outputs": [
    {
     "data": {
      "text/plain": [
       "5118"
      ]
     },
     "execution_count": 13,
     "metadata": {},
     "output_type": "execute_result"
    }
   ],
   "source": [
    "cv = cv.fit(([q1.content, \n",
    "              q2.content, \n",
    "              q3.content, \n",
    "              q4.content]))\n",
    "\n",
    "len(cv.get_feature_names_out())"
   ]
  },
  {
   "cell_type": "code",
   "execution_count": 14,
   "id": "fe420b14-8db6-4e58-975b-164804524ace",
   "metadata": {
    "tags": []
   },
   "outputs": [],
   "source": [
    "X = cv.transform([q1.content, \n",
    "                           q2.content, \n",
    "                           q3.content, \n",
    "                           q4.content]).toarray()"
   ]
  },
  {
   "cell_type": "code",
   "execution_count": 15,
   "id": "c2d1329d-2489-4117-89a1-2aeb0696af70",
   "metadata": {
    "tags": []
   },
   "outputs": [
    {
     "data": {
      "text/plain": [
       "array([[5, 0, 0, ..., 0, 0, 0],\n",
       "       [1, 1, 0, ..., 1, 0, 0],\n",
       "       [0, 0, 0, ..., 0, 0, 1],\n",
       "       [0, 0, 1, ..., 0, 1, 0]], dtype=int64)"
      ]
     },
     "execution_count": 15,
     "metadata": {},
     "output_type": "execute_result"
    }
   ],
   "source": [
    "X"
   ]
  },
  {
   "cell_type": "code",
   "execution_count": 17,
   "id": "e60fd64d-a75c-41b4-800d-b04f85a19321",
   "metadata": {
    "tags": []
   },
   "outputs": [],
   "source": [
    "def euclidean_distance(x, y):   \n",
    "    return np.sqrt(np.sum((x - y) ** 2))"
   ]
  },
  {
   "cell_type": "code",
   "execution_count": 18,
   "id": "558446ae-7a44-443e-8044-87cac4fa5bfc",
   "metadata": {
    "tags": []
   },
   "outputs": [
    {
     "name": "stdout",
     "output_type": "stream",
     "text": [
      "ML - AI \t 310.0209670328767 \n",
      "ML - soccer \t 513.8550379241211 \n",
      "ML - tennis \t 610.041801846398\n"
     ]
    }
   ],
   "source": [
    "print(\"ML - AI \\t\",     euclidean_distance(X[0], X[1]), \"\\n\"\n",
    "      \"ML - soccer \\t\", euclidean_distance(X[0], X[2]), \"\\n\"\n",
    "      \"ML - tennis \\t\", euclidean_distance(X[0], X[3]))"
   ]
  },
  {
   "cell_type": "markdown",
   "id": "e4e178ec-b6d2-41ed-a9f2-0716c274eb08",
   "metadata": {},
   "source": [
    "ML seems to be closest to soccer, which doesn’t make a lot of sense intuitively. \n",
    "\n",
    "So, what happens if we look at cosine similairty (thus normalising our vectors)?"
   ]
  },
  {
   "cell_type": "code",
   "execution_count": 20,
   "id": "8838fda1-41a7-4d38-b741-fc52be5acd65",
   "metadata": {
    "tags": []
   },
   "outputs": [],
   "source": [
    "def fn_cosine_similarity(x, y):\n",
    "    return np.dot(x, y) / (np.sqrt(np.dot(x, x)) * np.sqrt(np.dot(y, y)))"
   ]
  },
  {
   "cell_type": "code",
   "execution_count": 21,
   "id": "27ca6dcb-e1b6-48fc-bcc2-266dc9794a2a",
   "metadata": {
    "tags": []
   },
   "outputs": [
    {
     "name": "stdout",
     "output_type": "stream",
     "text": [
      "ML - AI \t 0.8955153014676447 \n",
      "ML - soccer \t 0.7684475886416761 \n",
      "ML - tennis \t 0.8063324463559948\n"
     ]
    }
   ],
   "source": [
    "print(\"ML - AI \\t\",     fn_cosine_similarity(X[0], X[1]), \"\\n\"\n",
    "      \"ML - soccer \\t\", fn_cosine_similarity(X[0], X[2]), \"\\n\"\n",
    "      \"ML - tennis \\t\", fn_cosine_similarity(X[0], X[3]))"
   ]
  },
  {
   "cell_type": "markdown",
   "id": "ed68de1c-88ae-4955-8082-34adf9775c34",
   "metadata": {},
   "source": [
    "ML is closer to AI! Granted, it still seems pretty close to soccer an tennis judging from these scores, but please note that word frequency is not that great of a representation for texts with such rich content."
   ]
  },
  {
   "cell_type": "code",
   "execution_count": null,
   "id": "7ed235ab-637c-4bfb-9a53-d310b9205e3d",
   "metadata": {},
   "outputs": [],
   "source": []
  },
  {
   "cell_type": "code",
   "execution_count": null,
   "id": "2d16efc6-3169-49a9-8b3e-1b3b8379b0a9",
   "metadata": {},
   "outputs": [],
   "source": []
  },
  {
   "cell_type": "code",
   "execution_count": null,
   "id": "02b51e65-cafe-44db-b1a5-b61b585c2509",
   "metadata": {},
   "outputs": [],
   "source": []
  },
  {
   "cell_type": "code",
   "execution_count": null,
   "id": "c4dcfe7d-1371-46e7-b28d-bcfb9e0aa96c",
   "metadata": {},
   "outputs": [],
   "source": []
  }
 ],
 "metadata": {
  "kernelspec": {
   "display_name": "Python 3 (ipykernel)",
   "language": "python",
   "name": "python3"
  },
  "language_info": {
   "codemirror_mode": {
    "name": "ipython",
    "version": 3
   },
   "file_extension": ".py",
   "mimetype": "text/x-python",
   "name": "python",
   "nbconvert_exporter": "python",
   "pygments_lexer": "ipython3",
   "version": "3.11.3"
  }
 },
 "nbformat": 4,
 "nbformat_minor": 5
}
