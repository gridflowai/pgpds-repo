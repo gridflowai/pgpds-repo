{
 "cells": [
  {
   "cell_type": "markdown",
   "id": "341d2024-d861-4ecb-b93c-1bd0b30f1799",
   "metadata": {},
   "source": [
    "#### Geometric Mean\n",
    "\n",
    "- is a measure of central tendency that is commonly used when dealing with data that has `multiplicative` relationships or when calculating growth rates. \n",
    "\n",
    "- Unlike the arithmetic mean, which is based on addition, the geometric mean is based on multiplication. \n",
    "\n",
    "- It is particularly useful for data that is not naturally additive."
   ]
  },
  {
   "cell_type": "markdown",
   "id": "6ad16085-19ee-4380-aeeb-2c1c4fc31527",
   "metadata": {},
   "source": [
    "The formula for calculating the geometric mean (often denoted as \"G\" or \"GM\") of a set of values is as follows:\n",
    "\n",
    "G = (n√(x1 * x2 * ... * xn))\n",
    "\n",
    "Where:\n",
    "\n",
    "- G represents the geometric mean.\n",
    "- n represents the total number of values in the dataset.\n",
    "- x1, x2, ..., xn represent the individual values in the dataset."
   ]
  },
  {
   "cell_type": "markdown",
   "id": "40fdf854-0138-493d-bcfb-c70e481fb8c2",
   "metadata": {},
   "source": [
    "`Use Case`: Investment returns; measuring compound growth rates over time."
   ]
  },
  {
   "cell_type": "code",
   "execution_count": 11,
   "id": "a7dc3438-f7ee-4a51-8748-0e747db332c4",
   "metadata": {
    "tags": []
   },
   "outputs": [],
   "source": [
    "import matplotlib.pyplot as plt\n",
    "import numpy as np\n",
    "import math"
   ]
  },
  {
   "cell_type": "markdown",
   "id": "f658e517-806f-4372-a574-f2448506239e",
   "metadata": {},
   "source": [
    "**Example** - simple GM compute "
   ]
  },
  {
   "cell_type": "code",
   "execution_count": 12,
   "id": "d199cf65-8efe-4cb5-b83f-4d7b134db0ba",
   "metadata": {
    "tags": []
   },
   "outputs": [],
   "source": [
    "# Define a list of positive values\n",
    "values = [1.05, 1.10, 1.15, 1.20, 1.25]"
   ]
  },
  {
   "cell_type": "code",
   "execution_count": 15,
   "id": "8c74dd6c-d254-404e-b1e5-dd3ee6a84792",
   "metadata": {
    "tags": []
   },
   "outputs": [
    {
     "name": "stdout",
     "output_type": "stream",
     "text": [
      "Geometric Mean: 1.1478211337169046\n"
     ]
    }
   ],
   "source": [
    "# Calculate the geometric mean\n",
    "n = len(values)\n",
    "product = 1.0  # Initialize the product to 1\n",
    "for value in values:\n",
    "    product *= value\n",
    "\n",
    "geometric_mean = math.pow(product, 1/n)\n",
    "\n",
    "# Print the result\n",
    "print(\"Geometric Mean:\", geometric_mean)"
   ]
  },
  {
   "cell_type": "code",
   "execution_count": 16,
   "id": "b288fe5d-42cf-4c7e-a559-cc27342a4bf0",
   "metadata": {
    "tags": []
   },
   "outputs": [
    {
     "name": "stdout",
     "output_type": "stream",
     "text": [
      "Geometric Mean: 1.1478211337169046\n"
     ]
    },
    {
     "data": {
      "image/png": "[encoded data removed]",
      "text/plain": [
       "<Figure size 600x400 with 1 Axes>"
      ]
     },
     "metadata": {},
     "output_type": "display_data"
    }
   ],
   "source": [
    "# Plot the data and geometric mean\n",
    "plt.figure(figsize=(6, 4))\n",
    "plt.scatter(range(len(values)), values, color='blue', label='Data Points')\n",
    "plt.axhline(y=geometric_mean, color='red', linestyle='--', label='Geometric Mean')\n",
    "plt.xlabel('Data Point Index')\n",
    "plt.ylabel('Value')\n",
    "plt.title('Data and Geometric Mean')\n",
    "plt.legend()\n",
    "plt.grid(True)\n",
    "\n",
    "print(\"Geometric Mean:\", geometric_mean)"
   ]
  },
  {
   "cell_type": "markdown",
   "id": "cb9598ba-2ddb-4c75-9767-9ba6ecb81263",
   "metadata": {},
   "source": [
    "**Example** - missing value impute"
   ]
  },
  {
   "cell_type": "code",
   "execution_count": 19,
   "id": "d5bf4f4d-2d48-4efb-aa39-d446402d128a",
   "metadata": {
    "tags": []
   },
   "outputs": [],
   "source": [
    "import pandas as pd"
   ]
  },
  {
   "cell_type": "code",
   "execution_count": 20,
   "id": "8a0430d9-aae4-41c9-b5f2-c4e95354ec0b",
   "metadata": {
    "tags": []
   },
   "outputs": [],
   "source": [
    "# Create a sample dataset with missing values\n",
    "data = {\n",
    "    'Year':          [1, 2, 3, 4],\n",
    "    'Initial_Value': [1000, 1050, np.nan, 1193.09],\n",
    "    'Interest_Rate': [0.05, 0.06, 0.04, 0.03],\n",
    "    'Ending_Value':  [1050, 1113, np.nan, np.nan]\n",
    "}"
   ]
  },
  {
   "cell_type": "code",
   "execution_count": 21,
   "id": "b93cec2f-0e94-4825-996b-039d8e3908e6",
   "metadata": {
    "tags": []
   },
   "outputs": [
    {
     "data": {
      "text/html": [
       "<div>\n",
       "<style scoped>\n",
       "    .dataframe tbody tr th:only-of-type {\n",
       "        vertical-align: middle;\n",
       "    }\n",
       "\n",
       "    .dataframe tbody tr th {\n",
       "        vertical-align: top;\n",
       "    }\n",
       "\n",
       "    .dataframe thead th {\n",
       "        text-align: right;\n",
       "    }\n",
       "</style>\n",
       "<table border=\"1\" class=\"dataframe\">\n",
       "  <thead>\n",
       "    <tr style=\"text-align: right;\">\n",
       "      <th></th>\n",
       "      <th>Year</th>\n",
       "      <th>Initial_Value</th>\n",
       "      <th>Interest_Rate</th>\n",
       "      <th>Ending_Value</th>\n",
       "    </tr>\n",
       "  </thead>\n",
       "  <tbody>\n",
       "    <tr>\n",
       "      <th>0</th>\n",
       "      <td>1</td>\n",
       "      <td>1000.00</td>\n",
       "      <td>0.05</td>\n",
       "      <td>1050.0</td>\n",
       "    </tr>\n",
       "    <tr>\n",
       "      <th>1</th>\n",
       "      <td>2</td>\n",
       "      <td>1050.00</td>\n",
       "      <td>0.06</td>\n",
       "      <td>1113.0</td>\n",
       "    </tr>\n",
       "    <tr>\n",
       "      <th>2</th>\n",
       "      <td>3</td>\n",
       "      <td>NaN</td>\n",
       "      <td>0.04</td>\n",
       "      <td>NaN</td>\n",
       "    </tr>\n",
       "    <tr>\n",
       "      <th>3</th>\n",
       "      <td>4</td>\n",
       "      <td>1193.09</td>\n",
       "      <td>0.03</td>\n",
       "      <td>NaN</td>\n",
       "    </tr>\n",
       "  </tbody>\n",
       "</table>\n",
       "</div>"
      ],
      "text/plain": [
       "   Year  Initial_Value  Interest_Rate  Ending_Value\n",
       "0     1        1000.00           0.05        1050.0\n",
       "1     2        1050.00           0.06        1113.0\n",
       "2     3            NaN           0.04           NaN\n",
       "3     4        1193.09           0.03           NaN"
      ]
     },
     "execution_count": 21,
     "metadata": {},
     "output_type": "execute_result"
    }
   ],
   "source": [
    "df = pd.DataFrame(data)\n",
    "\n",
    "# Sort the DataFrame by 'Year' column\n",
    "df = df.sort_values('Year')\n",
    "df"
   ]
  },
  {
   "cell_type": "code",
   "execution_count": 22,
   "id": "d735fda9-d0e3-4644-b977-01e12af72175",
   "metadata": {
    "tags": []
   },
   "outputs": [],
   "source": [
    "# Interpolate missing values while preserving the multiplicative relationship\n",
    "for col in ['Initial_Value', 'Ending_Value']:\n",
    "    \n",
    "    missing_indices = df.index[df[col].isnull()]\n",
    "    \n",
    "    for idx in missing_indices:\n",
    "        current_year = df.loc[idx, 'Year']\n",
    "        prev_year    = current_year - 1\n",
    "        next_year    = current_year + 1\n",
    "        \n",
    "        if prev_year in df['Year'].values and next_year in df['Year'].values:\n",
    "            prev_value = df.loc[df['Year'] == prev_year, col].values[0]\n",
    "            next_value = df.loc[df['Year'] == next_year, col].values[0]\n",
    "            \n",
    "            prev_interest_rate = df.loc[df['Year'] == prev_year, 'Interest_Rate'].values[0]\n",
    "            next_interest_rate = df.loc[df['Year'] == next_year, 'Interest_Rate'].values[0]\n",
    "\n",
    "            interpolated_value = prev_value * (1 + prev_interest_rate) / (1 + next_interest_rate)\n",
    "            df.loc[idx, col] = interpolated_value"
   ]
  },
  {
   "cell_type": "code",
   "execution_count": 23,
   "id": "65b0dfc8-ca6d-43da-81f5-1314344ac51f",
   "metadata": {
    "tags": []
   },
   "outputs": [
    {
     "data": {
      "text/html": [
       "<div>\n",
       "<style scoped>\n",
       "    .dataframe tbody tr th:only-of-type {\n",
       "        vertical-align: middle;\n",
       "    }\n",
       "\n",
       "    .dataframe tbody tr th {\n",
       "        vertical-align: top;\n",
       "    }\n",
       "\n",
       "    .dataframe thead th {\n",
       "        text-align: right;\n",
       "    }\n",
       "</style>\n",
       "<table border=\"1\" class=\"dataframe\">\n",
       "  <thead>\n",
       "    <tr style=\"text-align: right;\">\n",
       "      <th></th>\n",
       "      <th>Year</th>\n",
       "      <th>Initial_Value</th>\n",
       "      <th>Interest_Rate</th>\n",
       "      <th>Ending_Value</th>\n",
       "    </tr>\n",
       "  </thead>\n",
       "  <tbody>\n",
       "    <tr>\n",
       "      <th>0</th>\n",
       "      <td>1</td>\n",
       "      <td>1000.000000</td>\n",
       "      <td>0.05</td>\n",
       "      <td>1050.000000</td>\n",
       "    </tr>\n",
       "    <tr>\n",
       "      <th>1</th>\n",
       "      <td>2</td>\n",
       "      <td>1050.000000</td>\n",
       "      <td>0.06</td>\n",
       "      <td>1113.000000</td>\n",
       "    </tr>\n",
       "    <tr>\n",
       "      <th>2</th>\n",
       "      <td>3</td>\n",
       "      <td>1080.582524</td>\n",
       "      <td>0.04</td>\n",
       "      <td>1145.417476</td>\n",
       "    </tr>\n",
       "    <tr>\n",
       "      <th>3</th>\n",
       "      <td>4</td>\n",
       "      <td>1193.090000</td>\n",
       "      <td>0.03</td>\n",
       "      <td>NaN</td>\n",
       "    </tr>\n",
       "  </tbody>\n",
       "</table>\n",
       "</div>"
      ],
      "text/plain": [
       "   Year  Initial_Value  Interest_Rate  Ending_Value\n",
       "0     1    1000.000000           0.05   1050.000000\n",
       "1     2    1050.000000           0.06   1113.000000\n",
       "2     3    1080.582524           0.04   1145.417476\n",
       "3     4    1193.090000           0.03           NaN"
      ]
     },
     "execution_count": 23,
     "metadata": {},
     "output_type": "execute_result"
    }
   ],
   "source": [
    "df"
   ]
  },
  {
   "cell_type": "code",
   "execution_count": null,
   "id": "fd7ef442-d1aa-4e1c-a525-450ac6334570",
   "metadata": {},
   "outputs": [],
   "source": []
  }
 ],
 "metadata": {
  "kernelspec": {
   "display_name": "Python 3 (ipykernel)",
   "language": "python",
   "name": "python3"
  },
  "language_info": {
   "codemirror_mode": {
    "name": "ipython",
    "version": 3
   },
   "file_extension": ".py",
   "mimetype": "text/x-python",
   "name": "python",
   "nbconvert_exporter": "python",
   "pygments_lexer": "ipython3",
   "version": "3.11.4"
  }
 },
 "nbformat": 4,
 "nbformat_minor": 5
}
