{
 "cells": [
  {
   "cell_type": "markdown",
   "id": "7f54d6f6-b01e-4882-a6a4-ae3d3d46cd84",
   "metadata": {},
   "source": [
    "--------------------------\n",
    "### Weighted Mean \n",
    "\n",
    "(μw) = (Σ(wi * xi)) / Σwi\n",
    "\n",
    "Where:\n",
    "\n",
    "- μw represents the weighted mean.\n",
    "- Σ(wi * xi) represents the sum of the products of each value (xi) and its corresponding weight (wi).\n",
    "- Σwi represents the sum of all the weights.\n",
    "\n",
    "---------------------"
   ]
  },
  {
   "cell_type": "code",
   "execution_count": 2,
   "id": "92f73a8d-3a07-45b2-8569-9778bee26e75",
   "metadata": {
    "tags": []
   },
   "outputs": [
    {
     "name": "stdout",
     "output_type": "stream",
     "text": [
      "Weighted Mean: 87.1\n"
     ]
    }
   ],
   "source": [
    "# Define a list of values and their corresponding weights\n",
    "values  = [85, 92, 78, 89, 95]\n",
    "weights = [0.1, 0.2, 0.3, 0.2, 0.2]\n",
    "\n",
    "# Calculate the weighted mean\n",
    "weighted_sum   = sum(wi * xi for wi, xi in zip(weights, values))\n",
    "sum_of_weights = sum(weights)\n",
    "\n",
    "weighted_mean = weighted_sum / sum_of_weights\n",
    "\n",
    "# Print the result\n",
    "print(\"Weighted Mean:\", weighted_mean)\n"
   ]
  },
  {
   "cell_type": "markdown",
   "id": "aa70c527-0387-4167-8f1d-241ae607b29f",
   "metadata": {},
   "source": [
    "The weighted mean can be particularly useful when dealing with situations where different data points have `varying levels of significance` or when you want to give more importance to certain data points in your calculations."
   ]
  },
  {
   "cell_type": "markdown",
   "id": "7c7b58b4-845f-46a5-aca8-4042215a2bf1",
   "metadata": {},
   "source": [
    "**Example - GPA**\n",
    "\n",
    "example of weighted mean can be calculating the weighted GPA (Grade Point Average) of a student, where different courses or subjects have different credit hours (weights)"
   ]
  },
  {
   "cell_type": "code",
   "execution_count": 2,
   "id": "68b75cf0-8c9e-4b33-bf2d-62d4bcb76161",
   "metadata": {
    "tags": []
   },
   "outputs": [
    {
     "name": "stdout",
     "output_type": "stream",
     "text": [
      "Weighted GPA: 3.646666666666667\n"
     ]
    }
   ],
   "source": [
    "# Define a list of course grades and their corresponding credit hours (weights)\n",
    "grades       = [3.7, 4.0, 3.3, 3.0, 3.9]\n",
    "credit_hours = [3, 4, 3, 2, 3]\n",
    "\n",
    "# Calculate the weighted GPA\n",
    "weighted_sum = sum(grade * credit_hour for grade, credit_hour in zip(grades, credit_hours))\n",
    "sum_of_credit_hours = sum(credit_hours)\n",
    "weighted_gpa = weighted_sum / sum_of_credit_hours\n",
    "\n",
    "# Print the result\n",
    "print(\"Weighted GPA:\", weighted_gpa)\n"
   ]
  },
  {
   "cell_type": "markdown",
   "id": "13e48477-0359-425f-b2a8-ba965e116766",
   "metadata": {},
   "source": [
    "**Example - Survey**\n"
   ]
  },
  {
   "cell_type": "code",
   "execution_count": 3,
   "id": "d8bdce80-4d58-42bb-96b0-ac05f714203a",
   "metadata": {
    "tags": []
   },
   "outputs": [
    {
     "name": "stdout",
     "output_type": "stream",
     "text": [
      "Weighted Mean of Survey Responses: 20.0\n"
     ]
    }
   ],
   "source": [
    "# Define survey responses and their corresponding weights\n",
    "survey1_responses = [4, 5, 4, 3, 5]  # Responses from Survey 1\n",
    "survey2_responses = [3, 4, 4, 2, 3]  # Responses from Survey 2\n",
    "survey3_responses = [5, 5, 3, 4, 5]  # Responses from Survey 3\n",
    "\n",
    "survey_weights = [0.2, 0.3, 0.5]  # Weights for Surveys 1, 2, and 3 respectively\n",
    "\n",
    "# Calculate the weighted mean of survey responses\n",
    "weighted_sum = 0\n",
    "\n",
    "# Loop through each survey and calculate the weighted sum\n",
    "for i in range(len(survey_weights)):\n",
    "    weighted_sum += sum(response * survey_weights[i] for response in [survey1_responses, survey2_responses, survey3_responses][i])\n",
    "\n",
    "sum_of_weights = sum(survey_weights)\n",
    "weighted_mean = weighted_sum / sum_of_weights\n",
    "\n",
    "# Print the result\n",
    "print(\"Weighted Mean of Survey Responses:\", weighted_mean)\n"
   ]
  },
  {
   "cell_type": "code",
   "execution_count": 5,
   "id": "636c6b3c-2883-4e0e-8a92-da0caef720ab",
   "metadata": {},
   "outputs": [
    {
     "name": "stdout",
     "output_type": "stream",
     "text": [
      "[4, 5, 4, 3, 5]\n",
      "[4, 5, 4, 3, 5]\n",
      "[4, 5, 4, 3, 5]\n",
      "[4, 5, 4, 3, 5]\n",
      "[4, 5, 4, 3, 5]\n"
     ]
    }
   ],
   "source": [
    "for response in [survey1_responses, survey2_responses, survey3_responses][0]:\n",
    "    print(survey1_responses)"
   ]
  },
  {
   "cell_type": "code",
   "execution_count": 6,
   "id": "441a2834-3469-44e1-ba5e-04417c34ed72",
   "metadata": {
    "tags": []
   },
   "outputs": [
    {
     "name": "stdout",
     "output_type": "stream",
     "text": [
      "Current weighted_sum: 4.2\n",
      "Current weighted_sum: 9.0\n",
      "Current weighted_sum: 20.0\n",
      "sum_of_weights: 1.0\n",
      "Weighted Mean of Survey Responses: 20.0\n"
     ]
    }
   ],
   "source": [
    "survey1_responses = [4, 5, 4, 3, 5]  # Responses from Survey 1\n",
    "survey2_responses = [3, 4, 4, 2, 3]  # Responses from Survey 2\n",
    "survey3_responses = [5, 5, 3, 4, 5]  # Responses from Survey 3\n",
    "\n",
    "survey_weights = [0.2, 0.3, 0.5]  # Weights for Surveys 1, 2, and 3 respectively\n",
    "\n",
    "# Calculate the weighted mean of survey responses\n",
    "weighted_sum = 0\n",
    "\n",
    "# Loop through each survey and calculate the weighted sum\n",
    "for i in range(len(survey_weights)):\n",
    "    weighted_sum += sum(response * survey_weights[i] for response in [survey1_responses, survey2_responses, survey3_responses][i])\n",
    "    print(\"Current weighted_sum:\", weighted_sum)\n",
    "\n",
    "sum_of_weights = sum(survey_weights)\n",
    "print(\"sum_of_weights:\", sum_of_weights)\n",
    "\n",
    "weighted_mean = weighted_sum / sum_of_weights\n",
    "\n",
    "# Print the result\n",
    "print(\"Weighted Mean of Survey Responses:\", weighted_mean)\n"
   ]
  },
  {
   "cell_type": "code",
   "execution_count": null,
   "id": "255d8be9-74c6-4dcc-80d9-0c6694ac0533",
   "metadata": {},
   "outputs": [],
   "source": []
  }
 ],
 "metadata": {
  "kernelspec": {
   "display_name": "Python 3 (ipykernel)",
   "language": "python",
   "name": "python3"
  },
  "language_info": {
   "codemirror_mode": {
    "name": "ipython",
    "version": 3
   },
   "file_extension": ".py",
   "mimetype": "text/x-python",
   "name": "python",
   "nbconvert_exporter": "python",
   "pygments_lexer": "ipython3",
   "version": "3.11.4"
  }
 },
 "nbformat": 4,
 "nbformat_minor": 5
}
