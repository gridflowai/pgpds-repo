{
 "cells": [
  {
   "cell_type": "markdown",
   "id": "eaa89028-8417-4b9e-ada6-ed91971da19e",
   "metadata": {
    "tags": []
   },
   "source": [
    "---------------------------\n",
    "### Spearman's Rank Correlation Coefficient (ρ or rs):\n",
    "\n",
    "---------------------------\n",
    "\n",
    "- Non-parametric measure of the strength and direction of the relationship between two variables that are monotonic, but not necessarily linear.\n",
    "- Based on the ranked values of the variables rather than the raw data.\n",
    "- Suitable for `ordinal data` or when the data doesn't meet the normality assumption"
   ]
  },
  {
   "cell_type": "markdown",
   "id": "01c16a08-2e42-4e94-975b-4cefdce4757b",
   "metadata": {},
   "source": [
    "Imagine a class of students. We'll analyze the relationship between the hours they studied for an exam and their ranks based on the scores they achieved. It makes intuitive sense that the more hours a student studies, the better their rank might be. However, due to various factors, the relationship might not be strictly linear.\n",
    "\n",
    "#### Data:\n",
    "- hours_studied: Hours each student spent studying for the exam.\n",
    "- exam_ranks: Rank of each student based on exam scores (1 being the highest score).\n",
    "#### Objective:\n",
    "We want to see if there's a monotonic relationship between the hours studied and the exam ranks."
   ]
  },
  {
   "cell_type": "code",
   "execution_count": 3,
   "id": "99813837-2bd4-402f-9462-bd54936ff9d7",
   "metadata": {
    "tags": []
   },
   "outputs": [],
   "source": [
    "import numpy as np\n",
    "from scipy.stats import spearmanr\n",
    "import matplotlib.pyplot as plt"
   ]
  },
  {
   "cell_type": "code",
   "execution_count": 5,
   "id": "9ed2b053-bc92-42f0-b8f6-4ebde8dca057",
   "metadata": {
    "tags": []
   },
   "outputs": [],
   "source": [
    "# Sample data\n",
    "hours_studied = [2, 4, 1, 6, 5, 3, 8, 7, 9, 10]  # Hours each student studied\n",
    "exam_ranks    = [7, 6, 8, 4, 5, 9, 2, 3, 10, 1]  # Ranks based on exam scores (1 being the highest)"
   ]
  },
  {
   "cell_type": "code",
   "execution_count": 6,
   "id": "37e01771-be21-48c8-8215-a4ae017d94de",
   "metadata": {
    "tags": []
   },
   "outputs": [],
   "source": [
    "# Calculate Spearman's rank correlation\n",
    "rho, p_value = spearmanr(hours_studied, exam_ranks)"
   ]
  },
  {
   "cell_type": "code",
   "execution_count": 7,
   "id": "2308d12e-cea4-4dfa-bdbe-9783d667ce54",
   "metadata": {
    "tags": []
   },
   "outputs": [
    {
     "name": "stdout",
     "output_type": "stream",
     "text": [
      "Spearman's Rank Correlation Coefficient (ρ): -0.53\n",
      "P-value: 0.1173\n"
     ]
    },
    {
     "data": {
      "image/png": "[encoded data removed]",
      "text/plain": [
       "<Figure size 1000x600 with 1 Axes>"
      ]
     },
     "metadata": {},
     "output_type": "display_data"
    }
   ],
   "source": [
    "# Display correlation\n",
    "print(f\"Spearman's Rank Correlation Coefficient (ρ): {rho:.2f}\")\n",
    "print(f\"P-value: {p_value:.4f}\")\n",
    "\n",
    "# Plotting\n",
    "plt.figure(figsize=(10, 6))\n",
    "plt.scatter(hours_studied, exam_ranks, color='blue')\n",
    "plt.title('Hours Studied vs. Exam Ranks')\n",
    "plt.xlabel('Hours Studied')\n",
    "plt.ylabel('Exam Rank')\n",
    "plt.gca().invert_yaxis()  # Lower ranks (like 1st, 2nd) are better, so we invert the y-axis"
   ]
  },
  {
   "cell_type": "markdown",
   "id": "f40e5be9-bac9-4d1a-85f9-44f8e5d96885",
   "metadata": {},
   "source": [
    "Yes, the Spearman's Rank Correlation Coefficient of \n",
    "\n",
    "≈\n",
    "0.53\n",
    "ρ≈0.53 indicates a moderate positive monotonic relationship between the hours studied and the exam ranks. This means that, in general, as the hours of study increase, the exam rank improves (keeping in mind that a lower rank number is better).\n",
    "\n",
    "However, a \n",
    "\n",
    "ρ value of 0.53 is not close to 1, so the relationship isn't perfectly monotonic. "
   ]
  },
  {
   "cell_type": "markdown",
   "id": "2e32be8f-3e50-45f1-be2f-344e39bd5253",
   "metadata": {},
   "source": [
    "#### Example 02\n",
    "\n",
    "- Financial Markets:\n",
    "\n",
    "- Scenario: \n",
    "    - An investor wants to know if there's a relationship between the rank of companies in a sector based on quarterly revenue growth and the rank of the same companies based on stock performance over the same period.\n",
    "    - Use of Spearman's Correlation: This could indicate if companies with higher revenue growth tend to see better stock performance.\""
   ]
  },
  {
   "cell_type": "code",
   "execution_count": null,
   "id": "bc04ef30-c175-49bb-8928-91224360b233",
   "metadata": {},
   "outputs": [],
   "source": [
    "import numpy as np\n",
    "from scipy.stats import spearmanr"
   ]
  },
  {
   "cell_type": "code",
   "execution_count": 11,
   "id": "a9362837-468b-4beb-b76c-f364c298c295",
   "metadata": {
    "tags": []
   },
   "outputs": [],
   "source": [
    "# Sample data for 10 companies\n",
    "company_names = [\"Company \" + chr(65 + i) for i in range(10)]"
   ]
  },
  {
   "cell_type": "code",
   "execution_count": 12,
   "id": "7aa7da1a-49ee-4f19-b594-79afe1b386fd",
   "metadata": {
    "tags": []
   },
   "outputs": [],
   "source": [
    "# Quarterly revenue growth percentages (for demonstration purposes, random data is used)\n",
    "revenue_growth = [5.1, 3.2, 8.3, 6.0, 2.8, 4.5, 7.6, 5.8, 3.9, 6.7]\n"
   ]
  },
  {
   "cell_type": "code",
   "execution_count": 13,
   "id": "516c2d1f-a6da-42c2-afee-3907a62eb5c0",
   "metadata": {
    "tags": []
   },
   "outputs": [],
   "source": [
    "# Stock performance percentages over the same quarter (again, demonstration data)\n",
    "stock_performance = [4.5, 2.8, 7.9, 6.5, 2.3, 4.2, 8.1, 5.6, 3.4, 7.0]"
   ]
  },
  {
   "cell_type": "code",
   "execution_count": 14,
   "id": "92b46775-a171-40ca-abb5-e62dc1abef1a",
   "metadata": {
    "tags": []
   },
   "outputs": [
    {
     "name": "stdout",
     "output_type": "stream",
     "text": [
      "Spearman's Rank Correlation Coefficient (ρ): 0.99\n",
      "P-value: 0.0000\n",
      "     Company  Revenue Growth (%)  Stock Performance (%)\n",
      "0  Company A                 5.1                    4.5\n",
      "1  Company B                 3.2                    2.8\n",
      "2  Company C                 8.3                    7.9\n",
      "3  Company D                 6.0                    6.5\n",
      "4  Company E                 2.8                    2.3\n",
      "5  Company F                 4.5                    4.2\n",
      "6  Company G                 7.6                    8.1\n",
      "7  Company H                 5.8                    5.6\n",
      "8  Company I                 3.9                    3.4\n",
      "9  Company J                 6.7                    7.0\n"
     ]
    }
   ],
   "source": [
    "# Calculate Spearman's rank correlation\n",
    "rho, p_value = spearmanr(revenue_growth, stock_performance)\n",
    "\n",
    "# Display correlation\n",
    "print(f\"Spearman's Rank Correlation Coefficient (ρ): {rho:.2f}\")\n",
    "print(f\"P-value: {p_value:.4f}\")\n",
    "\n",
    "# If you also want to see the data in a tabular format:\n",
    "import pandas as pd\n",
    "df = pd.DataFrame({\n",
    "    'Company': company_names,\n",
    "    'Revenue Growth (%)': revenue_growth,\n",
    "    'Stock Performance (%)': stock_performance\n",
    "})\n",
    "print(df)\n"
   ]
  },
  {
   "cell_type": "markdown",
   "id": "42b269f6-4917-4d9e-8867-6e3b02cdf81c",
   "metadata": {},
   "source": [
    "If ρ is close to 1, it would suggest that companies with higher revenue growth tend to also have better stock performance over the quarter (and vice versa for ρ close to -1). \n",
    "\n",
    "The p-value can help determine if the observed correlation is statistically significant."
   ]
  },
  {
   "cell_type": "code",
   "execution_count": null,
   "id": "a372dc7f-644a-4830-911b-454b8231e0e6",
   "metadata": {},
   "outputs": [],
   "source": []
  }
 ],
 "metadata": {
  "kernelspec": {
   "display_name": "Python 3 (ipykernel)",
   "language": "python",
   "name": "python3"
  },
  "language_info": {
   "codemirror_mode": {
    "name": "ipython",
    "version": 3
   },
   "file_extension": ".py",
   "mimetype": "text/x-python",
   "name": "python",
   "nbconvert_exporter": "python",
   "pygments_lexer": "ipython3",
   "version": "3.11.3"
  }
 },
 "nbformat": 4,
 "nbformat_minor": 5
}
