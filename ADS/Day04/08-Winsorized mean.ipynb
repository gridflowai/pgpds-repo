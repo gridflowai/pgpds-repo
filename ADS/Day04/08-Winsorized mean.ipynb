{
 "cells": [
  {
   "cell_type": "markdown",
   "id": "b4427ffd-539b-4595-a6ca-59ca4859d2da",
   "metadata": {},
   "source": [
    "------------\n",
    "### Winsorized mean\n",
    "- also known as the `Winsorized trimmed mean`, is a variation of the arithmetic mean that reduces the impact of outliers in a dataset by `capping` or \"winsorizing\" extreme values. \n",
    "\n",
    "- Instead of discarding outliers or using robust measures like the median, the Winsorized mean `replaces` extreme values with values that are closer to the rest of the data. \n",
    "- This helps mitigate the influence of outliers while retaining the advantages of the mean."
   ]
  },
  {
   "cell_type": "code",
   "execution_count": 6,
   "id": "f5d832f0-c758-4f75-9f8f-fad4d3aa5e02",
   "metadata": {
    "tags": []
   },
   "outputs": [],
   "source": [
    "import numpy as np"
   ]
  },
  {
   "cell_type": "code",
   "execution_count": 7,
   "id": "2d3badbe-84e6-409e-b789-ed28fe3f2bc2",
   "metadata": {
    "tags": []
   },
   "outputs": [],
   "source": [
    "# Define a dataset with outliers\n",
    "data = [12, 15, 18, 21, 50, 55, 60, 70, 75, 200]"
   ]
  },
  {
   "cell_type": "code",
   "execution_count": 8,
   "id": "e5f08a32-11ca-4f7e-b478-261d42caf6c8",
   "metadata": {
    "tags": []
   },
   "outputs": [],
   "source": [
    "# Set the percentage for winsorization (e.g., 10% for each tail)\n",
    "lower_percentile = 0.10\n",
    "upper_percentile = 0.10"
   ]
  },
  {
   "cell_type": "code",
   "execution_count": 9,
   "id": "5bd71c86-b84e-48b3-aaf0-daf3088c7b94",
   "metadata": {
    "tags": []
   },
   "outputs": [],
   "source": [
    "# Calculate the lower and upper percentiles\n",
    "lower_cutoff = np.percentile(data,      lower_percentile  * 100)\n",
    "upper_cutoff = np.percentile(data, (1 - upper_percentile) * 100)"
   ]
  },
  {
   "cell_type": "code",
   "execution_count": 10,
   "id": "9bfd8a9e-36cb-4503-860b-738b87cb2b40",
   "metadata": {
    "tags": []
   },
   "outputs": [],
   "source": [
    "# Winsorize the data\n",
    "# Clip (limit) the values in an array.\n",
    "\n",
    "# Given an interval, values outside the interval are clipped to\n",
    "# the interval edges.  \n",
    "# For example, if an interval of ``[0, 1]`` is specified, \n",
    "# values smaller than 0 become 0, and values larger than 1 become 1.\n",
    "winsorized_data = np.clip(data, lower_cutoff, upper_cutoff)"
   ]
  },
  {
   "cell_type": "code",
   "execution_count": 11,
   "id": "d5a03ff7-8266-4709-b65f-e449c5ff4e4a",
   "metadata": {
    "tags": []
   },
   "outputs": [],
   "source": [
    "# Calculate the Winsorized mean\n",
    "winsorized_mean = np.mean(winsorized_data)"
   ]
  },
  {
   "cell_type": "code",
   "execution_count": 12,
   "id": "b68a0c25-21dc-49df-a857-afabecbfcd40",
   "metadata": {
    "tags": []
   },
   "outputs": [
    {
     "name": "stdout",
     "output_type": "stream",
     "text": [
      "Winsorized Mean: 46.61999999999999\n"
     ]
    }
   ],
   "source": [
    "# Print the result\n",
    "print(\"Winsorized Mean:\", winsorized_mean)"
   ]
  },
  {
   "cell_type": "code",
   "execution_count": null,
   "id": "5d28b6f4-7843-4433-9ae6-77cf4d0d7d12",
   "metadata": {},
   "outputs": [],
   "source": []
  }
 ],
 "metadata": {
  "kernelspec": {
   "display_name": "Python 3 (ipykernel)",
   "language": "python",
   "name": "python3"
  },
  "language_info": {
   "codemirror_mode": {
    "name": "ipython",
    "version": 3
   },
   "file_extension": ".py",
   "mimetype": "text/x-python",
   "name": "python",
   "nbconvert_exporter": "python",
   "pygments_lexer": "ipython3",
   "version": "3.11.4"
  }
 },
 "nbformat": 4,
 "nbformat_minor": 5
}
