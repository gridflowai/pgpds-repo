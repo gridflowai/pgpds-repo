{
 "cells": [
  {
   "cell_type": "markdown",
   "id": "a4d4dd4f-96fe-4a6c-a3f0-22ff4e7effd6",
   "metadata": {},
   "source": [
    "------------------------------\n",
    "### Kendall's Tau (τ):\n",
    "\n",
    "- Another non-parametric measure of association based on the ranks of the data.\n",
    "- It calculates the difference between the number of concordant and discordant pairs.\n",
    "- Often used for small sample sizes or data with many tied ranks.\n",
    "\n",
    "-----------------------------------\n",
    "\n",
    "`Scenario:`\n",
    "Imagine a small business has conducted a survey on a set of 10 products. They have collected two sets of rankings:\n",
    "\n",
    "- Rankings by Quality: A panel of experts ranked the products based on their quality.\n",
    "- Rankings by Popularity: They also gathered data on the popularity of products based on sales, leading to another ranking.\n",
    "\n",
    "The business wants to understand if there's an association between the quality and popularity rankings of the products."
   ]
  },
  {
   "cell_type": "code",
   "execution_count": 1,
   "id": "0c111dbe-a244-4d9f-9fe0-69a702b2f8f4",
   "metadata": {
    "tags": []
   },
   "outputs": [],
   "source": [
    "from scipy.stats import kendalltau"
   ]
  },
  {
   "cell_type": "code",
   "execution_count": 2,
   "id": "aa64adb0-3306-4c41-adec-4f652aeb148c",
   "metadata": {
    "tags": []
   },
   "outputs": [],
   "source": [
    "# Sample data for 10 products\n",
    "products = [\"Product \" + str(i + 1) for i in range(10)]"
   ]
  },
  {
   "cell_type": "code",
   "execution_count": 3,
   "id": "2eb52afe-f38a-4281-8532-112b837261a6",
   "metadata": {
    "tags": []
   },
   "outputs": [],
   "source": [
    "# Rankings by a panel of experts based on quality\n",
    "quality_rankings = [1, 2, 3, 4, 5, 6, 7, 8, 9, 10]"
   ]
  },
  {
   "cell_type": "code",
   "execution_count": 4,
   "id": "9f7b3689-7c10-4c5c-ae0a-b51d888ac546",
   "metadata": {
    "tags": []
   },
   "outputs": [],
   "source": [
    "# Rankings based on popularity (sales data)\n",
    "popularity_rankings = [3, 1, 4, 5, 2, 7, 9, 6, 10, 8]"
   ]
  },
  {
   "cell_type": "code",
   "execution_count": 5,
   "id": "e574fa75-042f-41d4-8d3e-094e512ed762",
   "metadata": {
    "tags": []
   },
   "outputs": [],
   "source": [
    "# Calculate Kendall's Tau\n",
    "tau, p_value = kendalltau(quality_rankings, popularity_rankings)"
   ]
  },
  {
   "cell_type": "code",
   "execution_count": 6,
   "id": "ade4acbb-ee7b-4686-ac92-e1e68baa5a27",
   "metadata": {
    "tags": []
   },
   "outputs": [
    {
     "name": "stdout",
     "output_type": "stream",
     "text": [
      "Kendall's Tau (τ): 0.64\n",
      "P-value: 0.0091\n",
      "      Product  Quality Rankings  Popularity Rankings\n",
      "0   Product 1                 1                    3\n",
      "1   Product 2                 2                    1\n",
      "2   Product 3                 3                    4\n",
      "3   Product 4                 4                    5\n",
      "4   Product 5                 5                    2\n",
      "5   Product 6                 6                    7\n",
      "6   Product 7                 7                    9\n",
      "7   Product 8                 8                    6\n",
      "8   Product 9                 9                   10\n",
      "9  Product 10                10                    8\n"
     ]
    }
   ],
   "source": [
    "# Display results\n",
    "print(f\"Kendall's Tau (τ): {tau:.2f}\")\n",
    "print(f\"P-value: {p_value:.4f}\")\n",
    "\n",
    "# To display the data and rankings in a tabular format:\n",
    "import pandas as pd\n",
    "df = pd.DataFrame({\n",
    "    'Product': products,\n",
    "    'Quality Rankings': quality_rankings,\n",
    "    'Popularity Rankings': popularity_rankings\n",
    "})\n",
    "print(df)"
   ]
  },
  {
   "cell_type": "markdown",
   "id": "40b02bc4-abcd-49bf-8360-4f992b0f99ec",
   "metadata": {},
   "source": [
    "Kendall's Tau will provide a measure of association between these two ranking lists. A τ value close to 1 suggests a strong agreement between the two rankings, a τ value close to -1 indicates a strong disagreement, and a τ close to 0 suggests little to no association.\n",
    "\n",
    "Again, the `p-value` can be used to check the statistical significance of the observed association. If it's below a certain threshold (e.g., 0.05), the observed association can be considered statistically significant."
   ]
  },
  {
   "cell_type": "code",
   "execution_count": null,
   "id": "14ab9d4a-e7d2-40f7-b044-21396d588d79",
   "metadata": {},
   "outputs": [],
   "source": []
  }
 ],
 "metadata": {
  "kernelspec": {
   "display_name": "Python 3 (ipykernel)",
   "language": "python",
   "name": "python3"
  },
  "language_info": {
   "codemirror_mode": {
    "name": "ipython",
    "version": 3
   },
   "file_extension": ".py",
   "mimetype": "text/x-python",
   "name": "python",
   "nbconvert_exporter": "python",
   "pygments_lexer": "ipython3",
   "version": "3.9.13"
  }
 },
 "nbformat": 4,
 "nbformat_minor": 5
}
